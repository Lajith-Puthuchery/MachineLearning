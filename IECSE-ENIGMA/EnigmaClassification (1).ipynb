{
  "nbformat": 4,
  "nbformat_minor": 0,
  "metadata": {
    "colab": {
      "name": "EnigmaClassification.ipynb",
      "provenance": [],
      "collapsed_sections": []
    },
    "kernelspec": {
      "name": "python3",
      "display_name": "Python 3"
    },
    "language_info": {
      "name": "python"
    }
  },
  "cells": [
    {
      "cell_type": "code",
      "metadata": {
        "id": "u9r9ssmEV4WK"
      },
      "source": [
        "import numpy as np\n",
        "import pandas as pd\n",
        "import matplotlib.pyplot as plt\n",
        "import seaborn as sns\n",
        "from sklearn.linear_model import LogisticRegression\n",
        "from sklearn.preprocessing import StandardScaler\n",
        "from sklearn.metrics import accuracy_score\n",
        "from sklearn.model_selection import train_test_split"
      ],
      "execution_count": 1,
      "outputs": []
    },
    {
      "cell_type": "code",
      "metadata": {
        "id": "TjnDg0szWyTd",
        "colab": {
          "resources": {
            "http://localhost:8080/nbextensions/google.colab/files.js": {
              "data": "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",
              "ok": true,
              "headers": [
                [
                  "content-type",
                  "application/javascript"
                ]
              ],
              "status": 200,
              "status_text": ""
            }
          },
          "base_uri": "https://localhost:8080/",
          "height": 73
        },
        "outputId": "df3dcc85-7122-42ab-e303-0d124c059879"
      },
      "source": [
        "from google.colab import files\n",
        "  \n",
        "upload = files.upload()"
      ],
      "execution_count": 2,
      "outputs": [
        {
          "output_type": "display_data",
          "data": {
            "text/html": [
              "\n",
              "     <input type=\"file\" id=\"files-8b4aa6ba-86ac-4ba6-bd69-e4cbe58400f8\" name=\"files[]\" multiple disabled\n",
              "        style=\"border:none\" />\n",
              "     <output id=\"result-8b4aa6ba-86ac-4ba6-bd69-e4cbe58400f8\">\n",
              "      Upload widget is only available when the cell has been executed in the\n",
              "      current browser session. Please rerun this cell to enable.\n",
              "      </output>\n",
              "      <script src=\"/nbextensions/google.colab/files.js\"></script> "
            ],
            "text/plain": [
              "<IPython.core.display.HTML object>"
            ]
          },
          "metadata": {
            "tags": []
          }
        },
        {
          "output_type": "stream",
          "text": [
            "Saving wc_classif.csv to wc_classif.csv\n"
          ],
          "name": "stdout"
        }
      ]
    },
    {
      "cell_type": "code",
      "metadata": {
        "id": "ADfUDfcEawND"
      },
      "source": [
        "data=pd.read_csv('wc_classif.csv')"
      ],
      "execution_count": 3,
      "outputs": []
    },
    {
      "cell_type": "code",
      "metadata": {
        "id": "WdbQyaXmbC_u",
        "colab": {
          "base_uri": "https://localhost:8080/",
          "height": 203
        },
        "outputId": "dbca4d95-5489-4845-eda5-32ed440c7b99"
      },
      "source": [
        "data.head()"
      ],
      "execution_count": 4,
      "outputs": [
        {
          "output_type": "execute_result",
          "data": {
            "text/html": [
              "<div>\n",
              "<style scoped>\n",
              "    .dataframe tbody tr th:only-of-type {\n",
              "        vertical-align: middle;\n",
              "    }\n",
              "\n",
              "    .dataframe tbody tr th {\n",
              "        vertical-align: top;\n",
              "    }\n",
              "\n",
              "    .dataframe thead th {\n",
              "        text-align: right;\n",
              "    }\n",
              "</style>\n",
              "<table border=\"1\" class=\"dataframe\">\n",
              "  <thead>\n",
              "    <tr style=\"text-align: right;\">\n",
              "      <th></th>\n",
              "      <th>Durability %</th>\n",
              "      <th>Hand/Factory Made</th>\n",
              "      <th>MSRP</th>\n",
              "      <th>Box Volume (cm^3)</th>\n",
              "      <th>Nature of Payment</th>\n",
              "      <th>No. of Sales</th>\n",
              "      <th>Asia or Not</th>\n",
              "      <th>Port</th>\n",
              "      <th>Factory</th>\n",
              "      <th>Counterfeit</th>\n",
              "    </tr>\n",
              "  </thead>\n",
              "  <tbody>\n",
              "    <tr>\n",
              "      <th>0</th>\n",
              "      <td>0.312381</td>\n",
              "      <td>Handmade</td>\n",
              "      <td>5196</td>\n",
              "      <td>18785.704912</td>\n",
              "      <td>PrePaid</td>\n",
              "      <td>10211</td>\n",
              "      <td>Asia</td>\n",
              "      <td>Port 0</td>\n",
              "      <td>Factory 0</td>\n",
              "      <td>0</td>\n",
              "    </tr>\n",
              "    <tr>\n",
              "      <th>1</th>\n",
              "      <td>0.512374</td>\n",
              "      <td>Handmade</td>\n",
              "      <td>5318</td>\n",
              "      <td>17301.908573</td>\n",
              "      <td>PrePaid</td>\n",
              "      <td>5185</td>\n",
              "      <td>Asia</td>\n",
              "      <td>Port 0</td>\n",
              "      <td>Factory 2</td>\n",
              "      <td>1</td>\n",
              "    </tr>\n",
              "    <tr>\n",
              "      <th>2</th>\n",
              "      <td>0.752365</td>\n",
              "      <td>Factorymade</td>\n",
              "      <td>6563</td>\n",
              "      <td>9250.611338</td>\n",
              "      <td>COD</td>\n",
              "      <td>5579</td>\n",
              "      <td>Asia</td>\n",
              "      <td>Port 2</td>\n",
              "      <td>Factory 0</td>\n",
              "      <td>1</td>\n",
              "    </tr>\n",
              "    <tr>\n",
              "      <th>3</th>\n",
              "      <td>0.592371</td>\n",
              "      <td>Factorymade</td>\n",
              "      <td>5318</td>\n",
              "      <td>12618.315418</td>\n",
              "      <td>COD</td>\n",
              "      <td>6036</td>\n",
              "      <td>Asia</td>\n",
              "      <td>Port 1</td>\n",
              "      <td>Factory 1</td>\n",
              "      <td>0</td>\n",
              "    </tr>\n",
              "    <tr>\n",
              "      <th>4</th>\n",
              "      <td>0.712367</td>\n",
              "      <td>Factorymade</td>\n",
              "      <td>3553</td>\n",
              "      <td>9864.706939</td>\n",
              "      <td>COD</td>\n",
              "      <td>6051</td>\n",
              "      <td>Asia</td>\n",
              "      <td>Port 1</td>\n",
              "      <td>Factory 0</td>\n",
              "      <td>1</td>\n",
              "    </tr>\n",
              "  </tbody>\n",
              "</table>\n",
              "</div>"
            ],
            "text/plain": [
              "   Durability % Hand/Factory Made  MSRP  ...   Port    Factory   Counterfeit\n",
              "0      0.312381          Handmade  5196  ...  Port 0  Factory 0            0\n",
              "1      0.512374          Handmade  5318  ...  Port 0  Factory 2            1\n",
              "2      0.752365       Factorymade  6563  ...  Port 2  Factory 0            1\n",
              "3      0.592371       Factorymade  5318  ...  Port 1  Factory 1            0\n",
              "4      0.712367       Factorymade  3553  ...  Port 1  Factory 0            1\n",
              "\n",
              "[5 rows x 10 columns]"
            ]
          },
          "metadata": {
            "tags": []
          },
          "execution_count": 4
        }
      ]
    },
    {
      "cell_type": "code",
      "metadata": {
        "colab": {
          "base_uri": "https://localhost:8080/",
          "height": 295
        },
        "id": "ceDzgjEac3mm",
        "outputId": "e99d7e38-5846-4b6e-90d7-8b90e3db1f93"
      },
      "source": [
        "data.describe()"
      ],
      "execution_count": 5,
      "outputs": [
        {
          "output_type": "execute_result",
          "data": {
            "text/html": [
              "<div>\n",
              "<style scoped>\n",
              "    .dataframe tbody tr th:only-of-type {\n",
              "        vertical-align: middle;\n",
              "    }\n",
              "\n",
              "    .dataframe tbody tr th {\n",
              "        vertical-align: top;\n",
              "    }\n",
              "\n",
              "    .dataframe thead th {\n",
              "        text-align: right;\n",
              "    }\n",
              "</style>\n",
              "<table border=\"1\" class=\"dataframe\">\n",
              "  <thead>\n",
              "    <tr style=\"text-align: right;\">\n",
              "      <th></th>\n",
              "      <th>Durability %</th>\n",
              "      <th>MSRP</th>\n",
              "      <th>Box Volume (cm^3)</th>\n",
              "      <th>No. of Sales</th>\n",
              "      <th>Counterfeit</th>\n",
              "    </tr>\n",
              "  </thead>\n",
              "  <tbody>\n",
              "    <tr>\n",
              "      <th>count</th>\n",
              "      <td>2290.000000</td>\n",
              "      <td>2290.000000</td>\n",
              "      <td>2290.000000</td>\n",
              "      <td>2290.000000</td>\n",
              "      <td>2290.000000</td>\n",
              "    </tr>\n",
              "    <tr>\n",
              "      <th>mean</th>\n",
              "      <td>0.511955</td>\n",
              "      <td>5584.445415</td>\n",
              "      <td>14419.252398</td>\n",
              "      <td>6769.544978</td>\n",
              "      <td>0.526638</td>\n",
              "    </tr>\n",
              "    <tr>\n",
              "      <th>std</th>\n",
              "      <td>0.179348</td>\n",
              "      <td>1143.406977</td>\n",
              "      <td>3739.167833</td>\n",
              "      <td>1732.488458</td>\n",
              "      <td>0.499399</td>\n",
              "    </tr>\n",
              "    <tr>\n",
              "      <th>min</th>\n",
              "      <td>0.052391</td>\n",
              "      <td>2034.000000</td>\n",
              "      <td>5036.032649</td>\n",
              "      <td>1160.000000</td>\n",
              "      <td>0.000000</td>\n",
              "    </tr>\n",
              "    <tr>\n",
              "      <th>25%</th>\n",
              "      <td>0.392378</td>\n",
              "      <td>5318.000000</td>\n",
              "      <td>11961.311420</td>\n",
              "      <td>5804.500000</td>\n",
              "      <td>0.000000</td>\n",
              "    </tr>\n",
              "    <tr>\n",
              "      <th>50%</th>\n",
              "      <td>0.532373</td>\n",
              "      <td>5318.000000</td>\n",
              "      <td>13932.209634</td>\n",
              "      <td>7031.000000</td>\n",
              "      <td>1.000000</td>\n",
              "    </tr>\n",
              "    <tr>\n",
              "      <th>75%</th>\n",
              "      <td>0.632370</td>\n",
              "      <td>6563.000000</td>\n",
              "      <td>16130.172767</td>\n",
              "      <td>7964.000000</td>\n",
              "      <td>1.000000</td>\n",
              "    </tr>\n",
              "    <tr>\n",
              "      <th>max</th>\n",
              "      <td>0.992356</td>\n",
              "      <td>6563.000000</td>\n",
              "      <td>29319.972061</td>\n",
              "      <td>10636.000000</td>\n",
              "      <td>1.000000</td>\n",
              "    </tr>\n",
              "  </tbody>\n",
              "</table>\n",
              "</div>"
            ],
            "text/plain": [
              "       Durability %         MSRP  Box Volume (cm^3)  No. of Sales  Counterfeit\n",
              "count   2290.000000  2290.000000        2290.000000   2290.000000  2290.000000\n",
              "mean       0.511955  5584.445415       14419.252398   6769.544978     0.526638\n",
              "std        0.179348  1143.406977        3739.167833   1732.488458     0.499399\n",
              "min        0.052391  2034.000000        5036.032649   1160.000000     0.000000\n",
              "25%        0.392378  5318.000000       11961.311420   5804.500000     0.000000\n",
              "50%        0.532373  5318.000000       13932.209634   7031.000000     1.000000\n",
              "75%        0.632370  6563.000000       16130.172767   7964.000000     1.000000\n",
              "max        0.992356  6563.000000       29319.972061  10636.000000     1.000000"
            ]
          },
          "metadata": {
            "tags": []
          },
          "execution_count": 5
        }
      ]
    },
    {
      "cell_type": "code",
      "metadata": {
        "colab": {
          "base_uri": "https://localhost:8080/"
        },
        "id": "BjH_ue4addgV",
        "outputId": "a1046dec-1496-43c7-e1e1-dbb3591a53c9"
      },
      "source": [
        "data.info()"
      ],
      "execution_count": 6,
      "outputs": [
        {
          "output_type": "stream",
          "text": [
            "<class 'pandas.core.frame.DataFrame'>\n",
            "RangeIndex: 2290 entries, 0 to 2289\n",
            "Data columns (total 10 columns):\n",
            " #   Column             Non-Null Count  Dtype  \n",
            "---  ------             --------------  -----  \n",
            " 0   Durability %       2290 non-null   float64\n",
            " 1   Hand/Factory Made  2290 non-null   object \n",
            " 2   MSRP               2290 non-null   int64  \n",
            " 3   Box Volume (cm^3)  2290 non-null   float64\n",
            " 4   Nature of Payment  2290 non-null   object \n",
            " 5   No. of Sales       2290 non-null   int64  \n",
            " 6   Asia or Not        2290 non-null   object \n",
            " 7   Port               2290 non-null   object \n",
            " 8   Factory            2290 non-null   object \n",
            " 9   Counterfeit        2290 non-null   int64  \n",
            "dtypes: float64(2), int64(3), object(5)\n",
            "memory usage: 179.0+ KB\n"
          ],
          "name": "stdout"
        }
      ]
    },
    {
      "cell_type": "code",
      "metadata": {
        "colab": {
          "base_uri": "https://localhost:8080/"
        },
        "id": "5kiV376SkGL3",
        "outputId": "5bc49a04-302c-4b20-b3ad-5997fbd4b8fe"
      },
      "source": [
        "data.columns"
      ],
      "execution_count": 7,
      "outputs": [
        {
          "output_type": "execute_result",
          "data": {
            "text/plain": [
              "Index(['Durability %', 'Hand/Factory Made', 'MSRP', 'Box Volume (cm^3)',\n",
              "       'Nature of Payment', 'No. of Sales', 'Asia or Not', 'Port ', 'Factory ',\n",
              "       'Counterfeit'],\n",
              "      dtype='object')"
            ]
          },
          "metadata": {
            "tags": []
          },
          "execution_count": 7
        }
      ]
    },
    {
      "cell_type": "code",
      "metadata": {
        "id": "VOQpTIIUfS0V",
        "colab": {
          "base_uri": "https://localhost:8080/"
        },
        "outputId": "408159e7-3ac8-4b64-8c9e-181829e57833"
      },
      "source": [
        "data[\"Factory \"].value_counts()"
      ],
      "execution_count": 8,
      "outputs": [
        {
          "output_type": "execute_result",
          "data": {
            "text/plain": [
              "Factory 0    1310\n",
              "Factory 1     573\n",
              "Factory 2     261\n",
              "Factory 3     146\n",
              "Name: Factory , dtype: int64"
            ]
          },
          "metadata": {
            "tags": []
          },
          "execution_count": 8
        }
      ]
    },
    {
      "cell_type": "code",
      "metadata": {
        "id": "TUB1P5ZbfGor",
        "colab": {
          "base_uri": "https://localhost:8080/",
          "height": 296
        },
        "outputId": "a3a59f47-4d1e-4159-83cd-a9658c781a7b"
      },
      "source": [
        "sns.boxplot(x=data[\"Box Volume (cm^3)\"])"
      ],
      "execution_count": 9,
      "outputs": [
        {
          "output_type": "execute_result",
          "data": {
            "text/plain": [
              "<matplotlib.axes._subplots.AxesSubplot at 0x7f6101936790>"
            ]
          },
          "metadata": {
            "tags": []
          },
          "execution_count": 9
        },
        {
          "output_type": "display_data",
          "data": {
            "image/png": "[encoded data removed]",
            "text/plain": [
              "<Figure size 432x288 with 1 Axes>"
            ]
          },
          "metadata": {
            "tags": [],
            "needs_background": "light"
          }
        }
      ]
    },
    {
      "cell_type": "code",
      "metadata": {
        "colab": {
          "base_uri": "https://localhost:8080/",
          "height": 296
        },
        "id": "Bq0IyslDMT8s",
        "outputId": "a68c611b-2f69-4f23-c17c-8481d3222e36"
      },
      "source": [
        "sns.boxplot(x=data[\"Durability %\"])"
      ],
      "execution_count": 10,
      "outputs": [
        {
          "output_type": "execute_result",
          "data": {
            "text/plain": [
              "<matplotlib.axes._subplots.AxesSubplot at 0x7f6101983ad0>"
            ]
          },
          "metadata": {
            "tags": []
          },
          "execution_count": 10
        },
        {
          "output_type": "display_data",
          "data": {
            "image/png": "[encoded data removed]",
            "text/plain": [
              "<Figure size 432x288 with 1 Axes>"
            ]
          },
          "metadata": {
            "tags": [],
            "needs_background": "light"
          }
        }
      ]
    },
    {
      "cell_type": "code",
      "metadata": {
        "colab": {
          "base_uri": "https://localhost:8080/",
          "height": 296
        },
        "id": "6rX5tcYbVc6g",
        "outputId": "84d028f9-f8e3-4082-cbbe-77170ab1cad2"
      },
      "source": [
        "sns.boxplot(x=data[\"MSRP\"])"
      ],
      "execution_count": 11,
      "outputs": [
        {
          "output_type": "execute_result",
          "data": {
            "text/plain": [
              "<matplotlib.axes._subplots.AxesSubplot at 0x7f61013afa50>"
            ]
          },
          "metadata": {
            "tags": []
          },
          "execution_count": 11
        },
        {
          "output_type": "display_data",
          "data": {
            "image/png": "[encoded data removed]",
            "text/plain": [
              "<Figure size 432x288 with 1 Axes>"
            ]
          },
          "metadata": {
            "tags": [],
            "needs_background": "light"
          }
        }
      ]
    },
    {
      "cell_type": "code",
      "metadata": {
        "colab": {
          "base_uri": "https://localhost:8080/",
          "height": 296
        },
        "id": "vrox8Z03VnIb",
        "outputId": "4e5dafdb-51dd-45e0-aa34-c92a79d39735"
      },
      "source": [
        "sns.boxplot(x=data[\"No. of Sales\"])"
      ],
      "execution_count": 12,
      "outputs": [
        {
          "output_type": "execute_result",
          "data": {
            "text/plain": [
              "<matplotlib.axes._subplots.AxesSubplot at 0x7f6101399510>"
            ]
          },
          "metadata": {
            "tags": []
          },
          "execution_count": 12
        },
        {
          "output_type": "display_data",
          "data": {
            "image/png": "[encoded data removed]",
            "text/plain": [
              "<Figure size 432x288 with 1 Axes>"
            ]
          },
          "metadata": {
            "tags": [],
            "needs_background": "light"
          }
        }
      ]
    },
    {
      "cell_type": "code",
      "metadata": {
        "colab": {
          "base_uri": "https://localhost:8080/",
          "height": 203
        },
        "id": "FBfaCRnoifHJ",
        "outputId": "70008b7c-e4e2-4b60-e87f-abe5d7fca96f"
      },
      "source": [
        "from sklearn.preprocessing import OrdinalEncoder\n",
        "\n",
        "ord_enc = OrdinalEncoder()\n",
        "data[\"Hand/Factory Made\"] = ord_enc.fit_transform(data[[\"Hand/Factory Made\"]])\n",
        "data.head()"
      ],
      "execution_count": 13,
      "outputs": [
        {
          "output_type": "execute_result",
          "data": {
            "text/html": [
              "<div>\n",
              "<style scoped>\n",
              "    .dataframe tbody tr th:only-of-type {\n",
              "        vertical-align: middle;\n",
              "    }\n",
              "\n",
              "    .dataframe tbody tr th {\n",
              "        vertical-align: top;\n",
              "    }\n",
              "\n",
              "    .dataframe thead th {\n",
              "        text-align: right;\n",
              "    }\n",
              "</style>\n",
              "<table border=\"1\" class=\"dataframe\">\n",
              "  <thead>\n",
              "    <tr style=\"text-align: right;\">\n",
              "      <th></th>\n",
              "      <th>Durability %</th>\n",
              "      <th>Hand/Factory Made</th>\n",
              "      <th>MSRP</th>\n",
              "      <th>Box Volume (cm^3)</th>\n",
              "      <th>Nature of Payment</th>\n",
              "      <th>No. of Sales</th>\n",
              "      <th>Asia or Not</th>\n",
              "      <th>Port</th>\n",
              "      <th>Factory</th>\n",
              "      <th>Counterfeit</th>\n",
              "    </tr>\n",
              "  </thead>\n",
              "  <tbody>\n",
              "    <tr>\n",
              "      <th>0</th>\n",
              "      <td>0.312381</td>\n",
              "      <td>1.0</td>\n",
              "      <td>5196</td>\n",
              "      <td>18785.704912</td>\n",
              "      <td>PrePaid</td>\n",
              "      <td>10211</td>\n",
              "      <td>Asia</td>\n",
              "      <td>Port 0</td>\n",
              "      <td>Factory 0</td>\n",
              "      <td>0</td>\n",
              "    </tr>\n",
              "    <tr>\n",
              "      <th>1</th>\n",
              "      <td>0.512374</td>\n",
              "      <td>1.0</td>\n",
              "      <td>5318</td>\n",
              "      <td>17301.908573</td>\n",
              "      <td>PrePaid</td>\n",
              "      <td>5185</td>\n",
              "      <td>Asia</td>\n",
              "      <td>Port 0</td>\n",
              "      <td>Factory 2</td>\n",
              "      <td>1</td>\n",
              "    </tr>\n",
              "    <tr>\n",
              "      <th>2</th>\n",
              "      <td>0.752365</td>\n",
              "      <td>0.0</td>\n",
              "      <td>6563</td>\n",
              "      <td>9250.611338</td>\n",
              "      <td>COD</td>\n",
              "      <td>5579</td>\n",
              "      <td>Asia</td>\n",
              "      <td>Port 2</td>\n",
              "      <td>Factory 0</td>\n",
              "      <td>1</td>\n",
              "    </tr>\n",
              "    <tr>\n",
              "      <th>3</th>\n",
              "      <td>0.592371</td>\n",
              "      <td>0.0</td>\n",
              "      <td>5318</td>\n",
              "      <td>12618.315418</td>\n",
              "      <td>COD</td>\n",
              "      <td>6036</td>\n",
              "      <td>Asia</td>\n",
              "      <td>Port 1</td>\n",
              "      <td>Factory 1</td>\n",
              "      <td>0</td>\n",
              "    </tr>\n",
              "    <tr>\n",
              "      <th>4</th>\n",
              "      <td>0.712367</td>\n",
              "      <td>0.0</td>\n",
              "      <td>3553</td>\n",
              "      <td>9864.706939</td>\n",
              "      <td>COD</td>\n",
              "      <td>6051</td>\n",
              "      <td>Asia</td>\n",
              "      <td>Port 1</td>\n",
              "      <td>Factory 0</td>\n",
              "      <td>1</td>\n",
              "    </tr>\n",
              "  </tbody>\n",
              "</table>\n",
              "</div>"
            ],
            "text/plain": [
              "   Durability %  Hand/Factory Made  MSRP  ...   Port    Factory   Counterfeit\n",
              "0      0.312381                1.0  5196  ...  Port 0  Factory 0            0\n",
              "1      0.512374                1.0  5318  ...  Port 0  Factory 2            1\n",
              "2      0.752365                0.0  6563  ...  Port 2  Factory 0            1\n",
              "3      0.592371                0.0  5318  ...  Port 1  Factory 1            0\n",
              "4      0.712367                0.0  3553  ...  Port 1  Factory 0            1\n",
              "\n",
              "[5 rows x 10 columns]"
            ]
          },
          "metadata": {
            "tags": []
          },
          "execution_count": 13
        }
      ]
    },
    {
      "cell_type": "code",
      "metadata": {
        "id": "MnM_3iqkg9Kf"
      },
      "source": [
        "data[\"Nature of Payment\"] = ord_enc.fit_transform(data[[\"Nature of Payment\"]])\n",
        "data[\"Asia or Not\"] = ord_enc.fit_transform(data[[\"Asia or Not\"]])\n",
        "data[\"Port \"] = ord_enc.fit_transform(data[[\"Port \"]])\n",
        "data[\"Factory \"] = ord_enc.fit_transform(data[[\"Factory \"]])"
      ],
      "execution_count": 14,
      "outputs": []
    },
    {
      "cell_type": "code",
      "metadata": {
        "colab": {
          "base_uri": "https://localhost:8080/",
          "height": 417
        },
        "id": "o12_dGenhXLh",
        "outputId": "6c8723e3-4a76-4c07-bc89-9ef5744732ad"
      },
      "source": [
        "data.head(500)"
      ],
      "execution_count": 15,
      "outputs": [
        {
          "output_type": "execute_result",
          "data": {
            "text/html": [
              "<div>\n",
              "<style scoped>\n",
              "    .dataframe tbody tr th:only-of-type {\n",
              "        vertical-align: middle;\n",
              "    }\n",
              "\n",
              "    .dataframe tbody tr th {\n",
              "        vertical-align: top;\n",
              "    }\n",
              "\n",
              "    .dataframe thead th {\n",
              "        text-align: right;\n",
              "    }\n",
              "</style>\n",
              "<table border=\"1\" class=\"dataframe\">\n",
              "  <thead>\n",
              "    <tr style=\"text-align: right;\">\n",
              "      <th></th>\n",
              "      <th>Durability %</th>\n",
              "      <th>Hand/Factory Made</th>\n",
              "      <th>MSRP</th>\n",
              "      <th>Box Volume (cm^3)</th>\n",
              "      <th>Nature of Payment</th>\n",
              "      <th>No. of Sales</th>\n",
              "      <th>Asia or Not</th>\n",
              "      <th>Port</th>\n",
              "      <th>Factory</th>\n",
              "      <th>Counterfeit</th>\n",
              "    </tr>\n",
              "  </thead>\n",
              "  <tbody>\n",
              "    <tr>\n",
              "      <th>0</th>\n",
              "      <td>0.312381</td>\n",
              "      <td>1.0</td>\n",
              "      <td>5196</td>\n",
              "      <td>18785.704912</td>\n",
              "      <td>1.0</td>\n",
              "      <td>10211</td>\n",
              "      <td>0.0</td>\n",
              "      <td>0.0</td>\n",
              "      <td>0.0</td>\n",
              "      <td>0</td>\n",
              "    </tr>\n",
              "    <tr>\n",
              "      <th>1</th>\n",
              "      <td>0.512374</td>\n",
              "      <td>1.0</td>\n",
              "      <td>5318</td>\n",
              "      <td>17301.908573</td>\n",
              "      <td>1.0</td>\n",
              "      <td>5185</td>\n",
              "      <td>0.0</td>\n",
              "      <td>0.0</td>\n",
              "      <td>2.0</td>\n",
              "      <td>1</td>\n",
              "    </tr>\n",
              "    <tr>\n",
              "      <th>2</th>\n",
              "      <td>0.752365</td>\n",
              "      <td>0.0</td>\n",
              "      <td>6563</td>\n",
              "      <td>9250.611338</td>\n",
              "      <td>0.0</td>\n",
              "      <td>5579</td>\n",
              "      <td>0.0</td>\n",
              "      <td>2.0</td>\n",
              "      <td>0.0</td>\n",
              "      <td>1</td>\n",
              "    </tr>\n",
              "    <tr>\n",
              "      <th>3</th>\n",
              "      <td>0.592371</td>\n",
              "      <td>0.0</td>\n",
              "      <td>5318</td>\n",
              "      <td>12618.315418</td>\n",
              "      <td>0.0</td>\n",
              "      <td>6036</td>\n",
              "      <td>0.0</td>\n",
              "      <td>1.0</td>\n",
              "      <td>1.0</td>\n",
              "      <td>0</td>\n",
              "    </tr>\n",
              "    <tr>\n",
              "      <th>4</th>\n",
              "      <td>0.712367</td>\n",
              "      <td>0.0</td>\n",
              "      <td>3553</td>\n",
              "      <td>9864.706939</td>\n",
              "      <td>0.0</td>\n",
              "      <td>6051</td>\n",
              "      <td>0.0</td>\n",
              "      <td>1.0</td>\n",
              "      <td>0.0</td>\n",
              "      <td>1</td>\n",
              "    </tr>\n",
              "    <tr>\n",
              "      <th>...</th>\n",
              "      <td>...</td>\n",
              "      <td>...</td>\n",
              "      <td>...</td>\n",
              "      <td>...</td>\n",
              "      <td>...</td>\n",
              "      <td>...</td>\n",
              "      <td>...</td>\n",
              "      <td>...</td>\n",
              "      <td>...</td>\n",
              "      <td>...</td>\n",
              "    </tr>\n",
              "    <tr>\n",
              "      <th>495</th>\n",
              "      <td>0.852361</td>\n",
              "      <td>1.0</td>\n",
              "      <td>5318</td>\n",
              "      <td>13878.197527</td>\n",
              "      <td>1.0</td>\n",
              "      <td>5354</td>\n",
              "      <td>0.0</td>\n",
              "      <td>1.0</td>\n",
              "      <td>0.0</td>\n",
              "      <td>0</td>\n",
              "    </tr>\n",
              "    <tr>\n",
              "      <th>496</th>\n",
              "      <td>0.592371</td>\n",
              "      <td>0.0</td>\n",
              "      <td>6563</td>\n",
              "      <td>17839.961003</td>\n",
              "      <td>1.0</td>\n",
              "      <td>7033</td>\n",
              "      <td>1.0</td>\n",
              "      <td>0.0</td>\n",
              "      <td>1.0</td>\n",
              "      <td>0</td>\n",
              "    </tr>\n",
              "    <tr>\n",
              "      <th>497</th>\n",
              "      <td>0.432377</td>\n",
              "      <td>1.0</td>\n",
              "      <td>5318</td>\n",
              "      <td>15049.756265</td>\n",
              "      <td>1.0</td>\n",
              "      <td>6092</td>\n",
              "      <td>0.0</td>\n",
              "      <td>1.0</td>\n",
              "      <td>1.0</td>\n",
              "      <td>1</td>\n",
              "    </tr>\n",
              "    <tr>\n",
              "      <th>498</th>\n",
              "      <td>0.412378</td>\n",
              "      <td>1.0</td>\n",
              "      <td>6563</td>\n",
              "      <td>21458.967751</td>\n",
              "      <td>1.0</td>\n",
              "      <td>7044</td>\n",
              "      <td>1.0</td>\n",
              "      <td>1.0</td>\n",
              "      <td>0.0</td>\n",
              "      <td>1</td>\n",
              "    </tr>\n",
              "    <tr>\n",
              "      <th>499</th>\n",
              "      <td>0.772364</td>\n",
              "      <td>0.0</td>\n",
              "      <td>6563</td>\n",
              "      <td>14198.500113</td>\n",
              "      <td>0.0</td>\n",
              "      <td>3757</td>\n",
              "      <td>0.0</td>\n",
              "      <td>1.0</td>\n",
              "      <td>0.0</td>\n",
              "      <td>0</td>\n",
              "    </tr>\n",
              "  </tbody>\n",
              "</table>\n",
              "<p>500 rows × 10 columns</p>\n",
              "</div>"
            ],
            "text/plain": [
              "     Durability %  Hand/Factory Made  MSRP  ...  Port   Factory   Counterfeit\n",
              "0        0.312381                1.0  5196  ...    0.0       0.0            0\n",
              "1        0.512374                1.0  5318  ...    0.0       2.0            1\n",
              "2        0.752365                0.0  6563  ...    2.0       0.0            1\n",
              "3        0.592371                0.0  5318  ...    1.0       1.0            0\n",
              "4        0.712367                0.0  3553  ...    1.0       0.0            1\n",
              "..            ...                ...   ...  ...    ...       ...          ...\n",
              "495      0.852361                1.0  5318  ...    1.0       0.0            0\n",
              "496      0.592371                0.0  6563  ...    0.0       1.0            0\n",
              "497      0.432377                1.0  5318  ...    1.0       1.0            1\n",
              "498      0.412378                1.0  6563  ...    1.0       0.0            1\n",
              "499      0.772364                0.0  6563  ...    1.0       0.0            0\n",
              "\n",
              "[500 rows x 10 columns]"
            ]
          },
          "metadata": {
            "tags": []
          },
          "execution_count": 15
        }
      ]
    },
    {
      "cell_type": "code",
      "metadata": {
        "id": "RmjQeLVJVryL",
        "colab": {
          "base_uri": "https://localhost:8080/"
        },
        "outputId": "2bc8cc53-4221-4844-d167-e8b4848b9a7b"
      },
      "source": [
        "data[\"Counterfeit\"].value_counts()"
      ],
      "execution_count": 16,
      "outputs": [
        {
          "output_type": "execute_result",
          "data": {
            "text/plain": [
              "1    1206\n",
              "0    1084\n",
              "Name: Counterfeit, dtype: int64"
            ]
          },
          "metadata": {
            "tags": []
          },
          "execution_count": 16
        }
      ]
    },
    {
      "cell_type": "code",
      "metadata": {
        "id": "K9D8MaK5ZI5g",
        "colab": {
          "base_uri": "https://localhost:8080/",
          "height": 417
        },
        "outputId": "623c0d20-3968-42ab-df49-f6e368286a4f"
      },
      "source": [
        "X=data.drop([\"Counterfeit\"],axis=1)\n",
        "Y=data[\"Counterfeit\"]\n",
        "X"
      ],
      "execution_count": 17,
      "outputs": [
        {
          "output_type": "execute_result",
          "data": {
            "text/html": [
              "<div>\n",
              "<style scoped>\n",
              "    .dataframe tbody tr th:only-of-type {\n",
              "        vertical-align: middle;\n",
              "    }\n",
              "\n",
              "    .dataframe tbody tr th {\n",
              "        vertical-align: top;\n",
              "    }\n",
              "\n",
              "    .dataframe thead th {\n",
              "        text-align: right;\n",
              "    }\n",
              "</style>\n",
              "<table border=\"1\" class=\"dataframe\">\n",
              "  <thead>\n",
              "    <tr style=\"text-align: right;\">\n",
              "      <th></th>\n",
              "      <th>Durability %</th>\n",
              "      <th>Hand/Factory Made</th>\n",
              "      <th>MSRP</th>\n",
              "      <th>Box Volume (cm^3)</th>\n",
              "      <th>Nature of Payment</th>\n",
              "      <th>No. of Sales</th>\n",
              "      <th>Asia or Not</th>\n",
              "      <th>Port</th>\n",
              "      <th>Factory</th>\n",
              "    </tr>\n",
              "  </thead>\n",
              "  <tbody>\n",
              "    <tr>\n",
              "      <th>0</th>\n",
              "      <td>0.312381</td>\n",
              "      <td>1.0</td>\n",
              "      <td>5196</td>\n",
              "      <td>18785.704912</td>\n",
              "      <td>1.0</td>\n",
              "      <td>10211</td>\n",
              "      <td>0.0</td>\n",
              "      <td>0.0</td>\n",
              "      <td>0.0</td>\n",
              "    </tr>\n",
              "    <tr>\n",
              "      <th>1</th>\n",
              "      <td>0.512374</td>\n",
              "      <td>1.0</td>\n",
              "      <td>5318</td>\n",
              "      <td>17301.908573</td>\n",
              "      <td>1.0</td>\n",
              "      <td>5185</td>\n",
              "      <td>0.0</td>\n",
              "      <td>0.0</td>\n",
              "      <td>2.0</td>\n",
              "    </tr>\n",
              "    <tr>\n",
              "      <th>2</th>\n",
              "      <td>0.752365</td>\n",
              "      <td>0.0</td>\n",
              "      <td>6563</td>\n",
              "      <td>9250.611338</td>\n",
              "      <td>0.0</td>\n",
              "      <td>5579</td>\n",
              "      <td>0.0</td>\n",
              "      <td>2.0</td>\n",
              "      <td>0.0</td>\n",
              "    </tr>\n",
              "    <tr>\n",
              "      <th>3</th>\n",
              "      <td>0.592371</td>\n",
              "      <td>0.0</td>\n",
              "      <td>5318</td>\n",
              "      <td>12618.315418</td>\n",
              "      <td>0.0</td>\n",
              "      <td>6036</td>\n",
              "      <td>0.0</td>\n",
              "      <td>1.0</td>\n",
              "      <td>1.0</td>\n",
              "    </tr>\n",
              "    <tr>\n",
              "      <th>4</th>\n",
              "      <td>0.712367</td>\n",
              "      <td>0.0</td>\n",
              "      <td>3553</td>\n",
              "      <td>9864.706939</td>\n",
              "      <td>0.0</td>\n",
              "      <td>6051</td>\n",
              "      <td>0.0</td>\n",
              "      <td>1.0</td>\n",
              "      <td>0.0</td>\n",
              "    </tr>\n",
              "    <tr>\n",
              "      <th>...</th>\n",
              "      <td>...</td>\n",
              "      <td>...</td>\n",
              "      <td>...</td>\n",
              "      <td>...</td>\n",
              "      <td>...</td>\n",
              "      <td>...</td>\n",
              "      <td>...</td>\n",
              "      <td>...</td>\n",
              "      <td>...</td>\n",
              "    </tr>\n",
              "    <tr>\n",
              "      <th>2285</th>\n",
              "      <td>0.392378</td>\n",
              "      <td>0.0</td>\n",
              "      <td>6563</td>\n",
              "      <td>15610.867643</td>\n",
              "      <td>1.0</td>\n",
              "      <td>7036</td>\n",
              "      <td>1.0</td>\n",
              "      <td>1.0</td>\n",
              "      <td>2.0</td>\n",
              "    </tr>\n",
              "    <tr>\n",
              "      <th>2286</th>\n",
              "      <td>0.332381</td>\n",
              "      <td>0.0</td>\n",
              "      <td>6563</td>\n",
              "      <td>12893.214922</td>\n",
              "      <td>0.0</td>\n",
              "      <td>6144</td>\n",
              "      <td>1.0</td>\n",
              "      <td>1.0</td>\n",
              "      <td>0.0</td>\n",
              "    </tr>\n",
              "    <tr>\n",
              "      <th>2287</th>\n",
              "      <td>0.532373</td>\n",
              "      <td>1.0</td>\n",
              "      <td>6563</td>\n",
              "      <td>11170.647211</td>\n",
              "      <td>0.0</td>\n",
              "      <td>3475</td>\n",
              "      <td>0.0</td>\n",
              "      <td>1.0</td>\n",
              "      <td>0.0</td>\n",
              "    </tr>\n",
              "    <tr>\n",
              "      <th>2288</th>\n",
              "      <td>0.312381</td>\n",
              "      <td>0.0</td>\n",
              "      <td>6563</td>\n",
              "      <td>11517.399276</td>\n",
              "      <td>0.0</td>\n",
              "      <td>6620</td>\n",
              "      <td>0.0</td>\n",
              "      <td>0.0</td>\n",
              "      <td>0.0</td>\n",
              "    </tr>\n",
              "    <tr>\n",
              "      <th>2289</th>\n",
              "      <td>0.612370</td>\n",
              "      <td>0.0</td>\n",
              "      <td>5318</td>\n",
              "      <td>9674.362529</td>\n",
              "      <td>1.0</td>\n",
              "      <td>6670</td>\n",
              "      <td>0.0</td>\n",
              "      <td>0.0</td>\n",
              "      <td>0.0</td>\n",
              "    </tr>\n",
              "  </tbody>\n",
              "</table>\n",
              "<p>2290 rows × 9 columns</p>\n",
              "</div>"
            ],
            "text/plain": [
              "      Durability %  Hand/Factory Made  MSRP  ...  Asia or Not  Port   Factory \n",
              "0         0.312381                1.0  5196  ...          0.0    0.0       0.0\n",
              "1         0.512374                1.0  5318  ...          0.0    0.0       2.0\n",
              "2         0.752365                0.0  6563  ...          0.0    2.0       0.0\n",
              "3         0.592371                0.0  5318  ...          0.0    1.0       1.0\n",
              "4         0.712367                0.0  3553  ...          0.0    1.0       0.0\n",
              "...            ...                ...   ...  ...          ...    ...       ...\n",
              "2285      0.392378                0.0  6563  ...          1.0    1.0       2.0\n",
              "2286      0.332381                0.0  6563  ...          1.0    1.0       0.0\n",
              "2287      0.532373                1.0  6563  ...          0.0    1.0       0.0\n",
              "2288      0.312381                0.0  6563  ...          0.0    0.0       0.0\n",
              "2289      0.612370                0.0  5318  ...          0.0    0.0       0.0\n",
              "\n",
              "[2290 rows x 9 columns]"
            ]
          },
          "metadata": {
            "tags": []
          },
          "execution_count": 17
        }
      ]
    },
    {
      "cell_type": "code",
      "metadata": {
        "id": "vZtF4K6caTo2",
        "colab": {
          "base_uri": "https://localhost:8080/",
          "height": 203
        },
        "outputId": "a9eeb562-6624-47d0-c26c-50085f090f1a"
      },
      "source": [
        "from sklearn.preprocessing import RobustScaler\n",
        "Robust= RobustScaler()\n",
        "X_scaled = Robust.fit_transform(X)\n",
        "X_scaled=pd.DataFrame(X_scaled, columns=[\"Durability %\"\t,\"Hand/Factory Made\"\t,\"MSRP\"\t,\"Box Volume (cm^3)\"\t,\"Nature of Payment\"\t,\"No. of Sales\"\t,\"Asia or Not\"\t,\"Port\"\t,\"Factory\"])\n",
        "X_scaled.head()\n"
      ],
      "execution_count": 18,
      "outputs": [
        {
          "output_type": "execute_result",
          "data": {
            "text/html": [
              "<div>\n",
              "<style scoped>\n",
              "    .dataframe tbody tr th:only-of-type {\n",
              "        vertical-align: middle;\n",
              "    }\n",
              "\n",
              "    .dataframe tbody tr th {\n",
              "        vertical-align: top;\n",
              "    }\n",
              "\n",
              "    .dataframe thead th {\n",
              "        text-align: right;\n",
              "    }\n",
              "</style>\n",
              "<table border=\"1\" class=\"dataframe\">\n",
              "  <thead>\n",
              "    <tr style=\"text-align: right;\">\n",
              "      <th></th>\n",
              "      <th>Durability %</th>\n",
              "      <th>Hand/Factory Made</th>\n",
              "      <th>MSRP</th>\n",
              "      <th>Box Volume (cm^3)</th>\n",
              "      <th>Nature of Payment</th>\n",
              "      <th>No. of Sales</th>\n",
              "      <th>Asia or Not</th>\n",
              "      <th>Port</th>\n",
              "      <th>Factory</th>\n",
              "    </tr>\n",
              "  </thead>\n",
              "  <tbody>\n",
              "    <tr>\n",
              "      <th>0</th>\n",
              "      <td>-0.916667</td>\n",
              "      <td>1.0</td>\n",
              "      <td>-0.097992</td>\n",
              "      <td>1.164226</td>\n",
              "      <td>1.0</td>\n",
              "      <td>1.472563</td>\n",
              "      <td>0.0</td>\n",
              "      <td>-1.0</td>\n",
              "      <td>0.0</td>\n",
              "    </tr>\n",
              "    <tr>\n",
              "      <th>1</th>\n",
              "      <td>-0.083333</td>\n",
              "      <td>1.0</td>\n",
              "      <td>0.000000</td>\n",
              "      <td>0.808302</td>\n",
              "      <td>1.0</td>\n",
              "      <td>-0.854828</td>\n",
              "      <td>0.0</td>\n",
              "      <td>-1.0</td>\n",
              "      <td>2.0</td>\n",
              "    </tr>\n",
              "    <tr>\n",
              "      <th>2</th>\n",
              "      <td>0.916667</td>\n",
              "      <td>0.0</td>\n",
              "      <td>1.000000</td>\n",
              "      <td>-1.122992</td>\n",
              "      <td>0.0</td>\n",
              "      <td>-0.672378</td>\n",
              "      <td>0.0</td>\n",
              "      <td>1.0</td>\n",
              "      <td>0.0</td>\n",
              "    </tr>\n",
              "    <tr>\n",
              "      <th>3</th>\n",
              "      <td>0.250000</td>\n",
              "      <td>0.0</td>\n",
              "      <td>0.000000</td>\n",
              "      <td>-0.315169</td>\n",
              "      <td>0.0</td>\n",
              "      <td>-0.460755</td>\n",
              "      <td>0.0</td>\n",
              "      <td>0.0</td>\n",
              "      <td>1.0</td>\n",
              "    </tr>\n",
              "    <tr>\n",
              "      <th>4</th>\n",
              "      <td>0.750000</td>\n",
              "      <td>0.0</td>\n",
              "      <td>-1.417671</td>\n",
              "      <td>-0.975687</td>\n",
              "      <td>0.0</td>\n",
              "      <td>-0.453809</td>\n",
              "      <td>0.0</td>\n",
              "      <td>0.0</td>\n",
              "      <td>0.0</td>\n",
              "    </tr>\n",
              "  </tbody>\n",
              "</table>\n",
              "</div>"
            ],
            "text/plain": [
              "   Durability %  Hand/Factory Made      MSRP  ...  Asia or Not  Port  Factory\n",
              "0     -0.916667                1.0 -0.097992  ...          0.0  -1.0      0.0\n",
              "1     -0.083333                1.0  0.000000  ...          0.0  -1.0      2.0\n",
              "2      0.916667                0.0  1.000000  ...          0.0   1.0      0.0\n",
              "3      0.250000                0.0  0.000000  ...          0.0   0.0      1.0\n",
              "4      0.750000                0.0 -1.417671  ...          0.0   0.0      0.0\n",
              "\n",
              "[5 rows x 9 columns]"
            ]
          },
          "metadata": {
            "tags": []
          },
          "execution_count": 18
        }
      ]
    },
    {
      "cell_type": "code",
      "metadata": {
        "id": "-c5BrUy0heGv",
        "colab": {
          "base_uri": "https://localhost:8080/"
        },
        "outputId": "c14d0938-10f5-47a0-8675-00ac432f0593"
      },
      "source": [
        "X.shape"
      ],
      "execution_count": 19,
      "outputs": [
        {
          "output_type": "execute_result",
          "data": {
            "text/plain": [
              "(2290, 9)"
            ]
          },
          "metadata": {
            "tags": []
          },
          "execution_count": 19
        }
      ]
    },
    {
      "cell_type": "code",
      "metadata": {
        "id": "tWlJzGWWIPtL"
      },
      "source": [
        "X_train = X_scaled[:2000]\n",
        "X_test = X_scaled[2000:]\n",
        "Y_train = Y[:2000]\n",
        "Y_test = Y[2000:]"
      ],
      "execution_count": 20,
      "outputs": []
    },
    {
      "cell_type": "code",
      "metadata": {
        "id": "WH5EAZwva74Z",
        "colab": {
          "base_uri": "https://localhost:8080/",
          "height": 417
        },
        "outputId": "ff2e3e0b-08e3-4741-9f92-d2402dbb77e8"
      },
      "source": [
        "X_train"
      ],
      "execution_count": 21,
      "outputs": [
        {
          "output_type": "execute_result",
          "data": {
            "text/html": [
              "<div>\n",
              "<style scoped>\n",
              "    .dataframe tbody tr th:only-of-type {\n",
              "        vertical-align: middle;\n",
              "    }\n",
              "\n",
              "    .dataframe tbody tr th {\n",
              "        vertical-align: top;\n",
              "    }\n",
              "\n",
              "    .dataframe thead th {\n",
              "        text-align: right;\n",
              "    }\n",
              "</style>\n",
              "<table border=\"1\" class=\"dataframe\">\n",
              "  <thead>\n",
              "    <tr style=\"text-align: right;\">\n",
              "      <th></th>\n",
              "      <th>Durability %</th>\n",
              "      <th>Hand/Factory Made</th>\n",
              "      <th>MSRP</th>\n",
              "      <th>Box Volume (cm^3)</th>\n",
              "      <th>Nature of Payment</th>\n",
              "      <th>No. of Sales</th>\n",
              "      <th>Asia or Not</th>\n",
              "      <th>Port</th>\n",
              "      <th>Factory</th>\n",
              "    </tr>\n",
              "  </thead>\n",
              "  <tbody>\n",
              "    <tr>\n",
              "      <th>0</th>\n",
              "      <td>-0.916667</td>\n",
              "      <td>1.0</td>\n",
              "      <td>-0.097992</td>\n",
              "      <td>1.164226</td>\n",
              "      <td>1.0</td>\n",
              "      <td>1.472563</td>\n",
              "      <td>0.0</td>\n",
              "      <td>-1.0</td>\n",
              "      <td>0.0</td>\n",
              "    </tr>\n",
              "    <tr>\n",
              "      <th>1</th>\n",
              "      <td>-0.083333</td>\n",
              "      <td>1.0</td>\n",
              "      <td>0.000000</td>\n",
              "      <td>0.808302</td>\n",
              "      <td>1.0</td>\n",
              "      <td>-0.854828</td>\n",
              "      <td>0.0</td>\n",
              "      <td>-1.0</td>\n",
              "      <td>2.0</td>\n",
              "    </tr>\n",
              "    <tr>\n",
              "      <th>2</th>\n",
              "      <td>0.916667</td>\n",
              "      <td>0.0</td>\n",
              "      <td>1.000000</td>\n",
              "      <td>-1.122992</td>\n",
              "      <td>0.0</td>\n",
              "      <td>-0.672378</td>\n",
              "      <td>0.0</td>\n",
              "      <td>1.0</td>\n",
              "      <td>0.0</td>\n",
              "    </tr>\n",
              "    <tr>\n",
              "      <th>3</th>\n",
              "      <td>0.250000</td>\n",
              "      <td>0.0</td>\n",
              "      <td>0.000000</td>\n",
              "      <td>-0.315169</td>\n",
              "      <td>0.0</td>\n",
              "      <td>-0.460755</td>\n",
              "      <td>0.0</td>\n",
              "      <td>0.0</td>\n",
              "      <td>1.0</td>\n",
              "    </tr>\n",
              "    <tr>\n",
              "      <th>4</th>\n",
              "      <td>0.750000</td>\n",
              "      <td>0.0</td>\n",
              "      <td>-1.417671</td>\n",
              "      <td>-0.975687</td>\n",
              "      <td>0.0</td>\n",
              "      <td>-0.453809</td>\n",
              "      <td>0.0</td>\n",
              "      <td>0.0</td>\n",
              "      <td>0.0</td>\n",
              "    </tr>\n",
              "    <tr>\n",
              "      <th>...</th>\n",
              "      <td>...</td>\n",
              "      <td>...</td>\n",
              "      <td>...</td>\n",
              "      <td>...</td>\n",
              "      <td>...</td>\n",
              "      <td>...</td>\n",
              "      <td>...</td>\n",
              "      <td>...</td>\n",
              "      <td>...</td>\n",
              "    </tr>\n",
              "    <tr>\n",
              "      <th>1995</th>\n",
              "      <td>0.333333</td>\n",
              "      <td>0.0</td>\n",
              "      <td>0.000000</td>\n",
              "      <td>-0.077230</td>\n",
              "      <td>0.0</td>\n",
              "      <td>0.563556</td>\n",
              "      <td>1.0</td>\n",
              "      <td>0.0</td>\n",
              "      <td>1.0</td>\n",
              "    </tr>\n",
              "    <tr>\n",
              "      <th>1996</th>\n",
              "      <td>-1.416667</td>\n",
              "      <td>0.0</td>\n",
              "      <td>1.000000</td>\n",
              "      <td>0.457423</td>\n",
              "      <td>0.0</td>\n",
              "      <td>1.025237</td>\n",
              "      <td>1.0</td>\n",
              "      <td>-1.0</td>\n",
              "      <td>1.0</td>\n",
              "    </tr>\n",
              "    <tr>\n",
              "      <th>1997</th>\n",
              "      <td>-1.833333</td>\n",
              "      <td>1.0</td>\n",
              "      <td>-0.726908</td>\n",
              "      <td>-0.084609</td>\n",
              "      <td>0.0</td>\n",
              "      <td>-1.162769</td>\n",
              "      <td>0.0</td>\n",
              "      <td>-1.0</td>\n",
              "      <td>1.0</td>\n",
              "    </tr>\n",
              "    <tr>\n",
              "      <th>1998</th>\n",
              "      <td>-0.416667</td>\n",
              "      <td>0.0</td>\n",
              "      <td>0.000000</td>\n",
              "      <td>0.074726</td>\n",
              "      <td>0.0</td>\n",
              "      <td>-0.092614</td>\n",
              "      <td>0.0</td>\n",
              "      <td>-1.0</td>\n",
              "      <td>3.0</td>\n",
              "    </tr>\n",
              "    <tr>\n",
              "      <th>1999</th>\n",
              "      <td>0.333333</td>\n",
              "      <td>0.0</td>\n",
              "      <td>1.000000</td>\n",
              "      <td>-0.105246</td>\n",
              "      <td>1.0</td>\n",
              "      <td>-0.474647</td>\n",
              "      <td>0.0</td>\n",
              "      <td>1.0</td>\n",
              "      <td>0.0</td>\n",
              "    </tr>\n",
              "  </tbody>\n",
              "</table>\n",
              "<p>2000 rows × 9 columns</p>\n",
              "</div>"
            ],
            "text/plain": [
              "      Durability %  Hand/Factory Made      MSRP  ...  Asia or Not  Port  Factory\n",
              "0        -0.916667                1.0 -0.097992  ...          0.0  -1.0      0.0\n",
              "1        -0.083333                1.0  0.000000  ...          0.0  -1.0      2.0\n",
              "2         0.916667                0.0  1.000000  ...          0.0   1.0      0.0\n",
              "3         0.250000                0.0  0.000000  ...          0.0   0.0      1.0\n",
              "4         0.750000                0.0 -1.417671  ...          0.0   0.0      0.0\n",
              "...            ...                ...       ...  ...          ...   ...      ...\n",
              "1995      0.333333                0.0  0.000000  ...          1.0   0.0      1.0\n",
              "1996     -1.416667                0.0  1.000000  ...          1.0  -1.0      1.0\n",
              "1997     -1.833333                1.0 -0.726908  ...          0.0  -1.0      1.0\n",
              "1998     -0.416667                0.0  0.000000  ...          0.0  -1.0      3.0\n",
              "1999      0.333333                0.0  1.000000  ...          0.0   1.0      0.0\n",
              "\n",
              "[2000 rows x 9 columns]"
            ]
          },
          "metadata": {
            "tags": []
          },
          "execution_count": 21
        }
      ]
    },
    {
      "cell_type": "code",
      "metadata": {
        "id": "ZfQt7AZ4a95J",
        "colab": {
          "base_uri": "https://localhost:8080/"
        },
        "outputId": "3738cc5e-bcd6-4376-b5d4-dd6b7d564ca5"
      },
      "source": [
        "X.shape"
      ],
      "execution_count": 22,
      "outputs": [
        {
          "output_type": "execute_result",
          "data": {
            "text/plain": [
              "(2290, 9)"
            ]
          },
          "metadata": {
            "tags": []
          },
          "execution_count": 22
        }
      ]
    },
    {
      "cell_type": "code",
      "metadata": {
        "id": "K517fxh4hHpQ",
        "colab": {
          "base_uri": "https://localhost:8080/"
        },
        "outputId": "6ac70681-ae87-432d-8fb4-3aab41b533bc"
      },
      "source": [
        "Y.shape"
      ],
      "execution_count": 23,
      "outputs": [
        {
          "output_type": "execute_result",
          "data": {
            "text/plain": [
              "(2290,)"
            ]
          },
          "metadata": {
            "tags": []
          },
          "execution_count": 23
        }
      ]
    },
    {
      "cell_type": "code",
      "metadata": {
        "id": "DIYfe_Imhwmu",
        "colab": {
          "base_uri": "https://localhost:8080/"
        },
        "outputId": "67a49f19-a32c-4a05-e30b-aa85c16b136b"
      },
      "source": [
        "from sklearn.ensemble import GradientBoostingClassifier\n",
        "\n",
        "gbrt = GradientBoostingClassifier(random_state = 42, learning_rate = 0.05, max_depth=5)\n",
        "gbrt.fit(X_train, Y_train)\n",
        "\n",
        "gbrt.score(X_test, Y_test)\n"
      ],
      "execution_count": 24,
      "outputs": [
        {
          "output_type": "execute_result",
          "data": {
            "text/plain": [
              "0.7103448275862069"
            ]
          },
          "metadata": {
            "tags": []
          },
          "execution_count": 24
        }
      ]
    },
    {
      "cell_type": "code",
      "metadata": {
        "id": "hoV1-TE3hJYL",
        "colab": {
          "base_uri": "https://localhost:8080/"
        },
        "outputId": "c45432e8-87fc-42ac-eb2f-def4024f2f3d"
      },
      "source": [
        "from sklearn.neighbors import KNeighborsClassifier\n",
        "for k in range(2,21):\n",
        "    KNN=KNeighborsClassifier(n_neighbors=k)\n",
        "    KNN.fit(X_train,Y_train)\n",
        "    \n",
        "    print(\"Score for k=\",k,\"is,\",KNN.score(X_test,Y_test))\n",
        "    "
      ],
      "execution_count": 25,
      "outputs": [
        {
          "output_type": "stream",
          "text": [
            "Score for k= 2 is, 0.6068965517241379\n",
            "Score for k= 3 is, 0.7068965517241379\n",
            "Score for k= 4 is, 0.6586206896551724\n",
            "Score for k= 5 is, 0.7034482758620689\n",
            "Score for k= 6 is, 0.6448275862068965\n",
            "Score for k= 7 is, 0.6482758620689655\n",
            "Score for k= 8 is, 0.6551724137931034\n",
            "Score for k= 9 is, 0.6862068965517242\n",
            "Score for k= 10 is, 0.6862068965517242\n",
            "Score for k= 11 is, 0.6862068965517242\n",
            "Score for k= 12 is, 0.7\n",
            "Score for k= 13 is, 0.7137931034482758\n",
            "Score for k= 14 is, 0.7\n",
            "Score for k= 15 is, 0.7103448275862069\n",
            "Score for k= 16 is, 0.7034482758620689\n",
            "Score for k= 17 is, 0.7034482758620689\n",
            "Score for k= 18 is, 0.7103448275862069\n",
            "Score for k= 19 is, 0.7137931034482758\n",
            "Score for k= 20 is, 0.7103448275862069\n"
          ],
          "name": "stdout"
        }
      ]
    },
    {
      "cell_type": "code",
      "metadata": {
        "id": "nEJSP9QChZzd",
        "colab": {
          "base_uri": "https://localhost:8080/"
        },
        "outputId": "3930cc3e-8093-4fd4-a6f6-9129e424c25c"
      },
      "source": [
        "from sklearn.linear_model import LogisticRegression\n",
        "LR=LogisticRegression(max_iter=4000)\n",
        "LR.fit(X_train,Y_train)\n",
        "print(LR.score(X_test,Y_test))"
      ],
      "execution_count": 26,
      "outputs": [
        {
          "output_type": "stream",
          "text": [
            "0.7068965517241379\n"
          ],
          "name": "stdout"
        }
      ]
    },
    {
      "cell_type": "code",
      "metadata": {
        "id": "c6QK3huQKFYE"
      },
      "source": [
        "from tensorflow.keras import Sequential\n",
        "from tensorflow.keras.layers import Dense"
      ],
      "execution_count": 27,
      "outputs": []
    },
    {
      "cell_type": "code",
      "metadata": {
        "id": "74dY6pMFcGMd"
      },
      "source": [
        "model = Sequential([\n",
        "                    Dense(10,activation='relu',input_shape=[9]),\n",
        "                    Dense(8, activation='relu'),\n",
        "                    Dense(1, activation='sigmoid'),\n",
        "])"
      ],
      "execution_count": 32,
      "outputs": []
    },
    {
      "cell_type": "code",
      "metadata": {
        "colab": {
          "base_uri": "https://localhost:8080/"
        },
        "id": "jWimQFY8cfaL",
        "outputId": "c24bcb8a-880d-4e11-cd0a-ef36bb47a84c"
      },
      "source": [
        "model.compile(optimizer='adam', loss='binary_crossentropy', metrics=['accuracy'])\n",
        "model.fit(X_train, Y_train, epochs=150, batch_size=64, verbose=0)"
      ],
      "execution_count": 33,
      "outputs": [
        {
          "output_type": "execute_result",
          "data": {
            "text/plain": [
              "<tensorflow.python.keras.callbacks.History at 0x7f60b00f9850>"
            ]
          },
          "metadata": {
            "tags": []
          },
          "execution_count": 33
        }
      ]
    },
    {
      "cell_type": "code",
      "metadata": {
        "colab": {
          "base_uri": "https://localhost:8080/"
        },
        "id": "jLSkWoL-dNzy",
        "outputId": "3e15734d-7e7a-4099-91c2-21015bbc0a50"
      },
      "source": [
        "loss, acc = model.evaluate(X_test, Y_test, verbose=0)\n",
        "print('Test Accuracy: %.3f' % acc)"
      ],
      "execution_count": 35,
      "outputs": [
        {
          "output_type": "stream",
          "text": [
            "Test Accuracy: 0.686\n"
          ],
          "name": "stdout"
        }
      ]
    },
    {
      "cell_type": "code",
      "metadata": {
        "id": "VIM4IiDidTnI"
      },
      "source": [
        ""
      ],
      "execution_count": null,
      "outputs": []
    }
  ]
}
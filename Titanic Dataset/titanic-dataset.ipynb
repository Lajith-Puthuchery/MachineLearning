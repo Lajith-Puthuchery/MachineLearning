{
 "cells": [
  {
   "cell_type": "code",
   "execution_count": 1,
   "id": "ultimate-sphere",
   "metadata": {
    "_cell_guid": "b1076dfc-b9ad-4769-8c92-a6c4dae69d19",
    "_uuid": "8f2839f25d086af736a60e9eeb907d3b93b6e0e5",
    "execution": {
     "iopub.execute_input": "2021-04-14T03:07:34.800887Z",
     "iopub.status.busy": "2021-04-14T03:07:34.799766Z",
     "iopub.status.idle": "2021-04-14T03:07:36.913586Z",
     "shell.execute_reply": "2021-04-14T03:07:36.914089Z"
    },
    "papermill": {
     "duration": 2.149552,
     "end_time": "2021-04-14T03:07:36.914459",
     "exception": false,
     "start_time": "2021-04-14T03:07:34.764907",
     "status": "completed"
    },
    "tags": []
   },
   "outputs": [
    {
     "name": "stdout",
     "output_type": "stream",
     "text": [
      "/kaggle/input/titanic/train.csv\n",
      "/kaggle/input/titanic/test.csv\n",
      "/kaggle/input/titanic/gender_submission.csv\n"
     ]
    }
   ],
   "source": [
    "# This Python 3 environment comes with many helpful analytics libraries installed\n",
    "# It is defined by the kaggle/python Docker image: https://github.com/kaggle/docker-python\n",
    "# For example, here's several helpful packages to load\n",
    "\n",
    "import numpy as np # linear algebra\n",
    "import pandas as pd # data processing, CSV file I/O (e.g. pd.read_csv)\n",
    "import torch\n",
    "import torchvision\n",
    "import tarfile\n",
    "from torchvision.datasets.utils import download_url\n",
    "from torch.utils.data import random_split\n",
    "import matplotlib.pyplot as plt\n",
    "import seaborn as sns\n",
    "%matplotlib inline\n",
    "\n",
    "# Input data files are available in the read-only \"../input/\" directory\n",
    "# For example, running this (by clicking run or pressing Shift+Enter) will list all files under the input directory\n",
    "\n",
    "import os\n",
    "for dirname, _, filenames in os.walk('/kaggle/input'):\n",
    "    for filename in filenames:\n",
    "        print(os.path.join(dirname, filename))\n",
    "\n",
    "# You can write up to 20GB to the current directory (/kaggle/working/) that gets preserved as output when you create a version using \"Save & Run All\" \n",
    "# You can also write temporary files to /kaggle/temp/, but they won't be saved outside of the current session"
   ]
  },
  {
   "cell_type": "code",
   "execution_count": 2,
   "id": "romantic-infection",
   "metadata": {
    "execution": {
     "iopub.execute_input": "2021-04-14T03:07:36.980590Z",
     "iopub.status.busy": "2021-04-14T03:07:36.979814Z",
     "iopub.status.idle": "2021-04-14T03:07:37.013020Z",
     "shell.execute_reply": "2021-04-14T03:07:37.012250Z"
    },
    "papermill": {
     "duration": 0.06762,
     "end_time": "2021-04-14T03:07:37.013205",
     "exception": false,
     "start_time": "2021-04-14T03:07:36.945585",
     "status": "completed"
    },
    "tags": []
   },
   "outputs": [],
   "source": [
    "train_df=pd.read_csv(\"/kaggle/input/titanic/train.csv\")\n",
    "test_df=pd.read_csv(\"/kaggle/input/titanic/test.csv\")"
   ]
  },
  {
   "cell_type": "code",
   "execution_count": 3,
   "id": "contemporary-treasure",
   "metadata": {
    "execution": {
     "iopub.execute_input": "2021-04-14T03:07:37.090956Z",
     "iopub.status.busy": "2021-04-14T03:07:37.089982Z",
     "iopub.status.idle": "2021-04-14T03:07:37.114391Z",
     "shell.execute_reply": "2021-04-14T03:07:37.114974Z"
    },
    "papermill": {
     "duration": 0.068955,
     "end_time": "2021-04-14T03:07:37.115188",
     "exception": false,
     "start_time": "2021-04-14T03:07:37.046233",
     "status": "completed"
    },
    "tags": []
   },
   "outputs": [
    {
     "data": {
      "text/html": [
       "<div>\n",
       "<style scoped>\n",
       "    .dataframe tbody tr th:only-of-type {\n",
       "        vertical-align: middle;\n",
       "    }\n",
       "\n",
       "    .dataframe tbody tr th {\n",
       "        vertical-align: top;\n",
       "    }\n",
       "\n",
       "    .dataframe thead th {\n",
       "        text-align: right;\n",
       "    }\n",
       "</style>\n",
       "<table border=\"1\" class=\"dataframe\">\n",
       "  <thead>\n",
       "    <tr style=\"text-align: right;\">\n",
       "      <th></th>\n",
       "      <th>PassengerId</th>\n",
       "      <th>Survived</th>\n",
       "      <th>Pclass</th>\n",
       "      <th>Name</th>\n",
       "      <th>Sex</th>\n",
       "      <th>Age</th>\n",
       "      <th>SibSp</th>\n",
       "      <th>Parch</th>\n",
       "      <th>Ticket</th>\n",
       "      <th>Fare</th>\n",
       "      <th>Cabin</th>\n",
       "      <th>Embarked</th>\n",
       "    </tr>\n",
       "  </thead>\n",
       "  <tbody>\n",
       "    <tr>\n",
       "      <th>0</th>\n",
       "      <td>1</td>\n",
       "      <td>0</td>\n",
       "      <td>3</td>\n",
       "      <td>Braund, Mr. Owen Harris</td>\n",
       "      <td>male</td>\n",
       "      <td>22.0</td>\n",
       "      <td>1</td>\n",
       "      <td>0</td>\n",
       "      <td>A/5 21171</td>\n",
       "      <td>7.2500</td>\n",
       "      <td>NaN</td>\n",
       "      <td>S</td>\n",
       "    </tr>\n",
       "    <tr>\n",
       "      <th>1</th>\n",
       "      <td>2</td>\n",
       "      <td>1</td>\n",
       "      <td>1</td>\n",
       "      <td>Cumings, Mrs. John Bradley (Florence Briggs Th...</td>\n",
       "      <td>female</td>\n",
       "      <td>38.0</td>\n",
       "      <td>1</td>\n",
       "      <td>0</td>\n",
       "      <td>PC 17599</td>\n",
       "      <td>71.2833</td>\n",
       "      <td>C85</td>\n",
       "      <td>C</td>\n",
       "    </tr>\n",
       "    <tr>\n",
       "      <th>2</th>\n",
       "      <td>3</td>\n",
       "      <td>1</td>\n",
       "      <td>3</td>\n",
       "      <td>Heikkinen, Miss. Laina</td>\n",
       "      <td>female</td>\n",
       "      <td>26.0</td>\n",
       "      <td>0</td>\n",
       "      <td>0</td>\n",
       "      <td>STON/O2. 3101282</td>\n",
       "      <td>7.9250</td>\n",
       "      <td>NaN</td>\n",
       "      <td>S</td>\n",
       "    </tr>\n",
       "    <tr>\n",
       "      <th>3</th>\n",
       "      <td>4</td>\n",
       "      <td>1</td>\n",
       "      <td>1</td>\n",
       "      <td>Futrelle, Mrs. Jacques Heath (Lily May Peel)</td>\n",
       "      <td>female</td>\n",
       "      <td>35.0</td>\n",
       "      <td>1</td>\n",
       "      <td>0</td>\n",
       "      <td>113803</td>\n",
       "      <td>53.1000</td>\n",
       "      <td>C123</td>\n",
       "      <td>S</td>\n",
       "    </tr>\n",
       "    <tr>\n",
       "      <th>4</th>\n",
       "      <td>5</td>\n",
       "      <td>0</td>\n",
       "      <td>3</td>\n",
       "      <td>Allen, Mr. William Henry</td>\n",
       "      <td>male</td>\n",
       "      <td>35.0</td>\n",
       "      <td>0</td>\n",
       "      <td>0</td>\n",
       "      <td>373450</td>\n",
       "      <td>8.0500</td>\n",
       "      <td>NaN</td>\n",
       "      <td>S</td>\n",
       "    </tr>\n",
       "  </tbody>\n",
       "</table>\n",
       "</div>"
      ],
      "text/plain": [
       "   PassengerId  Survived  Pclass  \\\n",
       "0            1         0       3   \n",
       "1            2         1       1   \n",
       "2            3         1       3   \n",
       "3            4         1       1   \n",
       "4            5         0       3   \n",
       "\n",
       "                                                Name     Sex   Age  SibSp  \\\n",
       "0                            Braund, Mr. Owen Harris    male  22.0      1   \n",
       "1  Cumings, Mrs. John Bradley (Florence Briggs Th...  female  38.0      1   \n",
       "2                             Heikkinen, Miss. Laina  female  26.0      0   \n",
       "3       Futrelle, Mrs. Jacques Heath (Lily May Peel)  female  35.0      1   \n",
       "4                           Allen, Mr. William Henry    male  35.0      0   \n",
       "\n",
       "   Parch            Ticket     Fare Cabin Embarked  \n",
       "0      0         A/5 21171   7.2500   NaN        S  \n",
       "1      0          PC 17599  71.2833   C85        C  \n",
       "2      0  STON/O2. 3101282   7.9250   NaN        S  \n",
       "3      0            113803  53.1000  C123        S  \n",
       "4      0            373450   8.0500   NaN        S  "
      ]
     },
     "execution_count": 3,
     "metadata": {},
     "output_type": "execute_result"
    }
   ],
   "source": [
    "train_df.head()"
   ]
  },
  {
   "cell_type": "code",
   "execution_count": 4,
   "id": "anticipated-selection",
   "metadata": {
    "execution": {
     "iopub.execute_input": "2021-04-14T03:07:37.181793Z",
     "iopub.status.busy": "2021-04-14T03:07:37.181103Z",
     "iopub.status.idle": "2021-04-14T03:07:37.198718Z",
     "shell.execute_reply": "2021-04-14T03:07:37.199349Z"
    },
    "papermill": {
     "duration": 0.053422,
     "end_time": "2021-04-14T03:07:37.199523",
     "exception": false,
     "start_time": "2021-04-14T03:07:37.146101",
     "status": "completed"
    },
    "tags": []
   },
   "outputs": [
    {
     "data": {
      "text/html": [
       "<div>\n",
       "<style scoped>\n",
       "    .dataframe tbody tr th:only-of-type {\n",
       "        vertical-align: middle;\n",
       "    }\n",
       "\n",
       "    .dataframe tbody tr th {\n",
       "        vertical-align: top;\n",
       "    }\n",
       "\n",
       "    .dataframe thead th {\n",
       "        text-align: right;\n",
       "    }\n",
       "</style>\n",
       "<table border=\"1\" class=\"dataframe\">\n",
       "  <thead>\n",
       "    <tr style=\"text-align: right;\">\n",
       "      <th></th>\n",
       "      <th>0</th>\n",
       "      <th>1</th>\n",
       "      <th>2</th>\n",
       "      <th>3</th>\n",
       "      <th>4</th>\n",
       "    </tr>\n",
       "  </thead>\n",
       "  <tbody>\n",
       "    <tr>\n",
       "      <th>PassengerId</th>\n",
       "      <td>892</td>\n",
       "      <td>893</td>\n",
       "      <td>894</td>\n",
       "      <td>895</td>\n",
       "      <td>896</td>\n",
       "    </tr>\n",
       "    <tr>\n",
       "      <th>Pclass</th>\n",
       "      <td>3</td>\n",
       "      <td>3</td>\n",
       "      <td>2</td>\n",
       "      <td>3</td>\n",
       "      <td>3</td>\n",
       "    </tr>\n",
       "    <tr>\n",
       "      <th>Name</th>\n",
       "      <td>Kelly, Mr. James</td>\n",
       "      <td>Wilkes, Mrs. James (Ellen Needs)</td>\n",
       "      <td>Myles, Mr. Thomas Francis</td>\n",
       "      <td>Wirz, Mr. Albert</td>\n",
       "      <td>Hirvonen, Mrs. Alexander (Helga E Lindqvist)</td>\n",
       "    </tr>\n",
       "    <tr>\n",
       "      <th>Sex</th>\n",
       "      <td>male</td>\n",
       "      <td>female</td>\n",
       "      <td>male</td>\n",
       "      <td>male</td>\n",
       "      <td>female</td>\n",
       "    </tr>\n",
       "    <tr>\n",
       "      <th>Age</th>\n",
       "      <td>34.5</td>\n",
       "      <td>47.0</td>\n",
       "      <td>62.0</td>\n",
       "      <td>27.0</td>\n",
       "      <td>22.0</td>\n",
       "    </tr>\n",
       "    <tr>\n",
       "      <th>SibSp</th>\n",
       "      <td>0</td>\n",
       "      <td>1</td>\n",
       "      <td>0</td>\n",
       "      <td>0</td>\n",
       "      <td>1</td>\n",
       "    </tr>\n",
       "    <tr>\n",
       "      <th>Parch</th>\n",
       "      <td>0</td>\n",
       "      <td>0</td>\n",
       "      <td>0</td>\n",
       "      <td>0</td>\n",
       "      <td>1</td>\n",
       "    </tr>\n",
       "    <tr>\n",
       "      <th>Ticket</th>\n",
       "      <td>330911</td>\n",
       "      <td>363272</td>\n",
       "      <td>240276</td>\n",
       "      <td>315154</td>\n",
       "      <td>3101298</td>\n",
       "    </tr>\n",
       "    <tr>\n",
       "      <th>Fare</th>\n",
       "      <td>7.8292</td>\n",
       "      <td>7.0</td>\n",
       "      <td>9.6875</td>\n",
       "      <td>8.6625</td>\n",
       "      <td>12.2875</td>\n",
       "    </tr>\n",
       "    <tr>\n",
       "      <th>Cabin</th>\n",
       "      <td>NaN</td>\n",
       "      <td>NaN</td>\n",
       "      <td>NaN</td>\n",
       "      <td>NaN</td>\n",
       "      <td>NaN</td>\n",
       "    </tr>\n",
       "    <tr>\n",
       "      <th>Embarked</th>\n",
       "      <td>Q</td>\n",
       "      <td>S</td>\n",
       "      <td>Q</td>\n",
       "      <td>S</td>\n",
       "      <td>S</td>\n",
       "    </tr>\n",
       "  </tbody>\n",
       "</table>\n",
       "</div>"
      ],
      "text/plain": [
       "                            0                                 1  \\\n",
       "PassengerId               892                               893   \n",
       "Pclass                      3                                 3   \n",
       "Name         Kelly, Mr. James  Wilkes, Mrs. James (Ellen Needs)   \n",
       "Sex                      male                            female   \n",
       "Age                      34.5                              47.0   \n",
       "SibSp                       0                                 1   \n",
       "Parch                       0                                 0   \n",
       "Ticket                 330911                            363272   \n",
       "Fare                   7.8292                               7.0   \n",
       "Cabin                     NaN                               NaN   \n",
       "Embarked                    Q                                 S   \n",
       "\n",
       "                                     2                 3  \\\n",
       "PassengerId                        894               895   \n",
       "Pclass                               2                 3   \n",
       "Name         Myles, Mr. Thomas Francis  Wirz, Mr. Albert   \n",
       "Sex                               male              male   \n",
       "Age                               62.0              27.0   \n",
       "SibSp                                0                 0   \n",
       "Parch                                0                 0   \n",
       "Ticket                          240276            315154   \n",
       "Fare                            9.6875            8.6625   \n",
       "Cabin                              NaN               NaN   \n",
       "Embarked                             Q                 S   \n",
       "\n",
       "                                                        4  \n",
       "PassengerId                                           896  \n",
       "Pclass                                                  3  \n",
       "Name         Hirvonen, Mrs. Alexander (Helga E Lindqvist)  \n",
       "Sex                                                female  \n",
       "Age                                                  22.0  \n",
       "SibSp                                                   1  \n",
       "Parch                                                   1  \n",
       "Ticket                                            3101298  \n",
       "Fare                                              12.2875  \n",
       "Cabin                                                 NaN  \n",
       "Embarked                                                S  "
      ]
     },
     "execution_count": 4,
     "metadata": {},
     "output_type": "execute_result"
    }
   ],
   "source": [
    "test_df.head().T"
   ]
  },
  {
   "cell_type": "code",
   "execution_count": 5,
   "id": "warming-stroke",
   "metadata": {
    "execution": {
     "iopub.execute_input": "2021-04-14T03:07:37.265777Z",
     "iopub.status.busy": "2021-04-14T03:07:37.265038Z",
     "iopub.status.idle": "2021-04-14T03:07:37.270298Z",
     "shell.execute_reply": "2021-04-14T03:07:37.270836Z"
    },
    "papermill": {
     "duration": 0.04029,
     "end_time": "2021-04-14T03:07:37.271001",
     "exception": false,
     "start_time": "2021-04-14T03:07:37.230711",
     "status": "completed"
    },
    "tags": []
   },
   "outputs": [
    {
     "data": {
      "text/plain": [
       "(891, 12)"
      ]
     },
     "execution_count": 5,
     "metadata": {},
     "output_type": "execute_result"
    }
   ],
   "source": [
    "train_df.shape"
   ]
  },
  {
   "cell_type": "code",
   "execution_count": 6,
   "id": "alien-cement",
   "metadata": {
    "execution": {
     "iopub.execute_input": "2021-04-14T03:07:37.339040Z",
     "iopub.status.busy": "2021-04-14T03:07:37.338433Z",
     "iopub.status.idle": "2021-04-14T03:07:38.332421Z",
     "shell.execute_reply": "2021-04-14T03:07:38.331404Z"
    },
    "papermill": {
     "duration": 1.029462,
     "end_time": "2021-04-14T03:07:38.332569",
     "exception": false,
     "start_time": "2021-04-14T03:07:37.303107",
     "status": "completed"
    },
    "tags": []
   },
   "outputs": [
    {
     "name": "stderr",
     "output_type": "stream",
     "text": [
      "/opt/conda/lib/python3.7/site-packages/pandas/plotting/_matplotlib/tools.py:400: MatplotlibDeprecationWarning: \n",
      "The is_first_col function was deprecated in Matplotlib 3.4 and will be removed two minor releases later. Use ax.get_subplotspec().is_first_col() instead.\n",
      "  if ax.is_first_col():\n"
     ]
    },
    {
     "data": {
      "image/png": "[encoded data removed]",
      "text/plain": [
       "<Figure size 648x504 with 9 Axes>"
      ]
     },
     "metadata": {
      "needs_background": "light"
     },
     "output_type": "display_data"
    }
   ],
   "source": [
    "train_df.hist(bins=10,figsize=(9,7),grid=False);"
   ]
  },
  {
   "cell_type": "code",
   "execution_count": 7,
   "id": "native-bachelor",
   "metadata": {
    "execution": {
     "iopub.execute_input": "2021-04-14T03:07:38.405115Z",
     "iopub.status.busy": "2021-04-14T03:07:38.404279Z",
     "iopub.status.idle": "2021-04-14T03:07:38.409585Z",
     "shell.execute_reply": "2021-04-14T03:07:38.408993Z"
    },
    "papermill": {
     "duration": 0.044268,
     "end_time": "2021-04-14T03:07:38.409740",
     "exception": false,
     "start_time": "2021-04-14T03:07:38.365472",
     "status": "completed"
    },
    "tags": []
   },
   "outputs": [
    {
     "data": {
      "text/plain": [
       "(418, 11)"
      ]
     },
     "execution_count": 7,
     "metadata": {},
     "output_type": "execute_result"
    }
   ],
   "source": [
    "test_df.shape"
   ]
  },
  {
   "cell_type": "code",
   "execution_count": 8,
   "id": "appointed-quality",
   "metadata": {
    "execution": {
     "iopub.execute_input": "2021-04-14T03:07:38.507011Z",
     "iopub.status.busy": "2021-04-14T03:07:38.499264Z",
     "iopub.status.idle": "2021-04-14T03:07:39.228311Z",
     "shell.execute_reply": "2021-04-14T03:07:39.227621Z"
    },
    "papermill": {
     "duration": 0.783598,
     "end_time": "2021-04-14T03:07:39.228470",
     "exception": false,
     "start_time": "2021-04-14T03:07:38.444872",
     "status": "completed"
    },
    "tags": []
   },
   "outputs": [
    {
     "data": {
      "image/png": "[encoded data removed]",
      "text/plain": [
       "<Figure size 648x504 with 6 Axes>"
      ]
     },
     "metadata": {
      "needs_background": "light"
     },
     "output_type": "display_data"
    }
   ],
   "source": [
    "test_df.hist(bins=10,figsize=(9,7),grid=False);"
   ]
  },
  {
   "cell_type": "code",
   "execution_count": 9,
   "id": "handed-calculator",
   "metadata": {
    "execution": {
     "iopub.execute_input": "2021-04-14T03:07:39.307447Z",
     "iopub.status.busy": "2021-04-14T03:07:39.305617Z",
     "iopub.status.idle": "2021-04-14T03:07:39.313150Z",
     "shell.execute_reply": "2021-04-14T03:07:39.312610Z"
    },
    "papermill": {
     "duration": 0.049498,
     "end_time": "2021-04-14T03:07:39.313300",
     "exception": false,
     "start_time": "2021-04-14T03:07:39.263802",
     "status": "completed"
    },
    "tags": []
   },
   "outputs": [
    {
     "data": {
      "text/plain": [
       "577"
      ]
     },
     "execution_count": 9,
     "metadata": {},
     "output_type": "execute_result"
    }
   ],
   "source": [
    "train_df[train_df['Sex'].str.match(\"male\")].Sex.count() \n"
   ]
  },
  {
   "cell_type": "code",
   "execution_count": 10,
   "id": "recent-period",
   "metadata": {
    "execution": {
     "iopub.execute_input": "2021-04-14T03:07:39.392727Z",
     "iopub.status.busy": "2021-04-14T03:07:39.392022Z",
     "iopub.status.idle": "2021-04-14T03:07:39.396347Z",
     "shell.execute_reply": "2021-04-14T03:07:39.395762Z"
    },
    "papermill": {
     "duration": 0.047913,
     "end_time": "2021-04-14T03:07:39.396501",
     "exception": false,
     "start_time": "2021-04-14T03:07:39.348588",
     "status": "completed"
    },
    "tags": []
   },
   "outputs": [
    {
     "data": {
      "text/plain": [
       "314"
      ]
     },
     "execution_count": 10,
     "metadata": {},
     "output_type": "execute_result"
    }
   ],
   "source": [
    "train_df[train_df['Sex'].str.match(\"female\")].Sex.count()"
   ]
  },
  {
   "cell_type": "code",
   "execution_count": 11,
   "id": "informational-trinidad",
   "metadata": {
    "execution": {
     "iopub.execute_input": "2021-04-14T03:07:39.481934Z",
     "iopub.status.busy": "2021-04-14T03:07:39.481200Z",
     "iopub.status.idle": "2021-04-14T03:07:39.485140Z",
     "shell.execute_reply": "2021-04-14T03:07:39.485654Z"
    },
    "papermill": {
     "duration": 0.052411,
     "end_time": "2021-04-14T03:07:39.485863",
     "exception": false,
     "start_time": "2021-04-14T03:07:39.433452",
     "status": "completed"
    },
    "tags": []
   },
   "outputs": [
    {
     "name": "stderr",
     "output_type": "stream",
     "text": [
      "/opt/conda/lib/python3.7/site-packages/ipykernel_launcher.py:1: UserWarning: Boolean Series key will be reindexed to match DataFrame index.\n",
      "  \"\"\"Entry point for launching an IPython kernel.\n"
     ]
    },
    {
     "data": {
      "text/plain": [
       "258"
      ]
     },
     "execution_count": 11,
     "metadata": {},
     "output_type": "execute_result"
    }
   ],
   "source": [
    "test_df[train_df['Sex'].str.match(\"male\")].Sex.count()"
   ]
  },
  {
   "cell_type": "code",
   "execution_count": 12,
   "id": "vietnamese-michael",
   "metadata": {
    "execution": {
     "iopub.execute_input": "2021-04-14T03:07:39.568084Z",
     "iopub.status.busy": "2021-04-14T03:07:39.567225Z",
     "iopub.status.idle": "2021-04-14T03:07:39.573498Z",
     "shell.execute_reply": "2021-04-14T03:07:39.574054Z"
    },
    "papermill": {
     "duration": 0.051932,
     "end_time": "2021-04-14T03:07:39.574292",
     "exception": false,
     "start_time": "2021-04-14T03:07:39.522360",
     "status": "completed"
    },
    "tags": []
   },
   "outputs": [
    {
     "name": "stderr",
     "output_type": "stream",
     "text": [
      "/opt/conda/lib/python3.7/site-packages/ipykernel_launcher.py:1: UserWarning: Boolean Series key will be reindexed to match DataFrame index.\n",
      "  \"\"\"Entry point for launching an IPython kernel.\n"
     ]
    },
    {
     "data": {
      "text/plain": [
       "160"
      ]
     },
     "execution_count": 12,
     "metadata": {},
     "output_type": "execute_result"
    }
   ],
   "source": [
    "test_df[train_df['Sex'].str.match(\"female\")].Sex.count()"
   ]
  },
  {
   "cell_type": "code",
   "execution_count": 13,
   "id": "graduate-massachusetts",
   "metadata": {
    "execution": {
     "iopub.execute_input": "2021-04-14T03:07:39.661838Z",
     "iopub.status.busy": "2021-04-14T03:07:39.661101Z",
     "iopub.status.idle": "2021-04-14T03:07:39.810908Z",
     "shell.execute_reply": "2021-04-14T03:07:39.810209Z"
    },
    "papermill": {
     "duration": 0.198787,
     "end_time": "2021-04-14T03:07:39.811067",
     "exception": false,
     "start_time": "2021-04-14T03:07:39.612280",
     "status": "completed"
    },
    "tags": []
   },
   "outputs": [
    {
     "data": {
      "text/plain": [
       "Text(0.5, 1.0, 'How many Men and Women in train_df')"
      ]
     },
     "execution_count": 13,
     "metadata": {},
     "output_type": "execute_result"
    },
    {
     "data": {
      "image/png": "[encoded data removed]",
      "text/plain": [
       "<Figure size 432x288 with 1 Axes>"
      ]
     },
     "metadata": {},
     "output_type": "display_data"
    }
   ],
   "source": [
    "sns.set(font_scale=1)\n",
    "sns.countplot(x='Sex',data=train_df,palette='plasma').set_title('How many Men and Women in train_df')"
   ]
  },
  {
   "cell_type": "code",
   "execution_count": 14,
   "id": "encouraging-grace",
   "metadata": {
    "execution": {
     "iopub.execute_input": "2021-04-14T03:07:39.922482Z",
     "iopub.status.busy": "2021-04-14T03:07:39.897904Z",
     "iopub.status.idle": "2021-04-14T03:07:40.028472Z",
     "shell.execute_reply": "2021-04-14T03:07:40.027874Z"
    },
    "papermill": {
     "duration": 0.178809,
     "end_time": "2021-04-14T03:07:40.028612",
     "exception": false,
     "start_time": "2021-04-14T03:07:39.849803",
     "status": "completed"
    },
    "tags": []
   },
   "outputs": [
    {
     "data": {
      "text/plain": [
       "Text(0.5, 1.0, 'How many Men and Women in test_df')"
      ]
     },
     "execution_count": 14,
     "metadata": {},
     "output_type": "execute_result"
    },
    {
     "data": {
      "image/png": "[encoded data removed]",
      "text/plain": [
       "<Figure size 432x288 with 1 Axes>"
      ]
     },
     "metadata": {},
     "output_type": "display_data"
    }
   ],
   "source": [
    "sns.countplot(x='Sex',data=test_df,palette='plasma').set_title('How many Men and Women in test_df')"
   ]
  },
  {
   "cell_type": "code",
   "execution_count": 15,
   "id": "congressional-november",
   "metadata": {
    "execution": {
     "iopub.execute_input": "2021-04-14T03:07:40.119422Z",
     "iopub.status.busy": "2021-04-14T03:07:40.116784Z",
     "iopub.status.idle": "2021-04-14T03:07:40.283850Z",
     "shell.execute_reply": "2021-04-14T03:07:40.282614Z"
    },
    "papermill": {
     "duration": 0.214853,
     "end_time": "2021-04-14T03:07:40.284040",
     "exception": false,
     "start_time": "2021-04-14T03:07:40.069187",
     "status": "completed"
    },
    "tags": []
   },
   "outputs": [
    {
     "data": {
      "text/plain": [
       "<AxesSubplot:xlabel='Sex', ylabel='count'>"
      ]
     },
     "execution_count": 15,
     "metadata": {},
     "output_type": "execute_result"
    },
    {
     "data": {
      "image/png": "[encoded data removed]",
      "text/plain": [
       "<Figure size 432x288 with 1 Axes>"
      ]
     },
     "metadata": {},
     "output_type": "display_data"
    }
   ],
   "source": [
    "# Here in our plot_ 0 = Not Survived & 1 = Survived #\n",
    "sns.countplot(x='Sex',data=train_df,hue='Survived',palette='plasma')"
   ]
  },
  {
   "cell_type": "code",
   "execution_count": 16,
   "id": "tracked-bolivia",
   "metadata": {
    "execution": {
     "iopub.execute_input": "2021-04-14T03:07:40.375494Z",
     "iopub.status.busy": "2021-04-14T03:07:40.374561Z",
     "iopub.status.idle": "2021-04-14T03:07:40.548335Z",
     "shell.execute_reply": "2021-04-14T03:07:40.547747Z"
    },
    "papermill": {
     "duration": 0.222741,
     "end_time": "2021-04-14T03:07:40.548507",
     "exception": false,
     "start_time": "2021-04-14T03:07:40.325766",
     "status": "completed"
    },
    "tags": []
   },
   "outputs": [
    {
     "data": {
      "text/plain": [
       "<AxesSubplot:xlabel='Pclass', ylabel='count'>"
      ]
     },
     "execution_count": 16,
     "metadata": {},
     "output_type": "execute_result"
    },
    {
     "data": {
      "image/png": "[encoded data removed]",
      "text/plain": [
       "<Figure size 432x288 with 1 Axes>"
      ]
     },
     "metadata": {},
     "output_type": "display_data"
    }
   ],
   "source": [
    "sns.countplot(x='Pclass',data=train_df,hue='Survived',palette='plasma')"
   ]
  },
  {
   "cell_type": "code",
   "execution_count": 17,
   "id": "assured-kazakhstan",
   "metadata": {
    "execution": {
     "iopub.execute_input": "2021-04-14T03:07:40.644532Z",
     "iopub.status.busy": "2021-04-14T03:07:40.643556Z",
     "iopub.status.idle": "2021-04-14T03:07:40.648508Z",
     "shell.execute_reply": "2021-04-14T03:07:40.647778Z"
    },
    "papermill": {
     "duration": 0.057385,
     "end_time": "2021-04-14T03:07:40.648674",
     "exception": false,
     "start_time": "2021-04-14T03:07:40.591289",
     "status": "completed"
    },
    "tags": []
   },
   "outputs": [
    {
     "data": {
      "text/plain": [
       "0    61.616162\n",
       "1    38.383838\n",
       "Name: Survived, dtype: float64"
      ]
     },
     "execution_count": 17,
     "metadata": {},
     "output_type": "execute_result"
    }
   ],
   "source": [
    "#Here 0 = Not Survived & 1 = Survived #\n",
    "train_df['Survived'].value_counts() *100/len(train_df)"
   ]
  },
  {
   "cell_type": "code",
   "execution_count": 18,
   "id": "fewer-roberts",
   "metadata": {
    "execution": {
     "iopub.execute_input": "2021-04-14T03:07:40.744248Z",
     "iopub.status.busy": "2021-04-14T03:07:40.743267Z",
     "iopub.status.idle": "2021-04-14T03:07:40.931739Z",
     "shell.execute_reply": "2021-04-14T03:07:40.931046Z"
    },
    "papermill": {
     "duration": 0.240238,
     "end_time": "2021-04-14T03:07:40.931893",
     "exception": false,
     "start_time": "2021-04-14T03:07:40.691655",
     "status": "completed"
    },
    "tags": []
   },
   "outputs": [
    {
     "name": "stdout",
     "output_type": "stream",
     "text": [
      "<class 'pandas.core.frame.DataFrame'>\n",
      "RangeIndex: 891 entries, 0 to 890\n",
      "Data columns (total 12 columns):\n",
      " #   Column       Non-Null Count  Dtype  \n",
      "---  ------       --------------  -----  \n",
      " 0   PassengerId  891 non-null    int64  \n",
      " 1   Survived     891 non-null    int64  \n",
      " 2   Pclass       891 non-null    int64  \n",
      " 3   Name         891 non-null    object \n",
      " 4   Sex          891 non-null    object \n",
      " 5   Age          714 non-null    float64\n",
      " 6   SibSp        891 non-null    int64  \n",
      " 7   Parch        891 non-null    int64  \n",
      " 8   Ticket       891 non-null    object \n",
      " 9   Fare         891 non-null    float64\n",
      " 10  Cabin        204 non-null    object \n",
      " 11  Embarked     889 non-null    object \n",
      "dtypes: float64(2), int64(5), object(5)\n",
      "memory usage: 83.7+ KB\n"
     ]
    },
    {
     "data": {
      "image/png": "[encoded data removed]",
      "text/plain": [
       "<Figure size 432x288 with 1 Axes>"
      ]
     },
     "metadata": {},
     "output_type": "display_data"
    }
   ],
   "source": [
    "sns.countplot(x='Sex',data=train_df,hue='Pclass',palette='plasma')\n",
    "train_df.info()"
   ]
  },
  {
   "cell_type": "code",
   "execution_count": 19,
   "id": "disturbed-characterization",
   "metadata": {
    "execution": {
     "iopub.execute_input": "2021-04-14T03:07:41.030553Z",
     "iopub.status.busy": "2021-04-14T03:07:41.028414Z",
     "iopub.status.idle": "2021-04-14T03:07:41.216694Z",
     "shell.execute_reply": "2021-04-14T03:07:41.216092Z"
    },
    "papermill": {
     "duration": 0.241076,
     "end_time": "2021-04-14T03:07:41.216849",
     "exception": false,
     "start_time": "2021-04-14T03:07:40.975773",
     "status": "completed"
    },
    "tags": []
   },
   "outputs": [
    {
     "name": "stdout",
     "output_type": "stream",
     "text": [
      "<class 'pandas.core.frame.DataFrame'>\n",
      "RangeIndex: 418 entries, 0 to 417\n",
      "Data columns (total 11 columns):\n",
      " #   Column       Non-Null Count  Dtype  \n",
      "---  ------       --------------  -----  \n",
      " 0   PassengerId  418 non-null    int64  \n",
      " 1   Pclass       418 non-null    int64  \n",
      " 2   Name         418 non-null    object \n",
      " 3   Sex          418 non-null    object \n",
      " 4   Age          332 non-null    float64\n",
      " 5   SibSp        418 non-null    int64  \n",
      " 6   Parch        418 non-null    int64  \n",
      " 7   Ticket       418 non-null    object \n",
      " 8   Fare         417 non-null    float64\n",
      " 9   Cabin        91 non-null     object \n",
      " 10  Embarked     418 non-null    object \n",
      "dtypes: float64(2), int64(4), object(5)\n",
      "memory usage: 36.0+ KB\n"
     ]
    },
    {
     "data": {
      "image/png": "[encoded data removed]",
      "text/plain": [
       "<Figure size 432x288 with 1 Axes>"
      ]
     },
     "metadata": {},
     "output_type": "display_data"
    }
   ],
   "source": [
    "sns.countplot(x='Sex',data=test_df,hue='Pclass',palette='plasma')\n",
    "test_df.info()"
   ]
  },
  {
   "cell_type": "code",
   "execution_count": 20,
   "id": "appointed-story",
   "metadata": {
    "execution": {
     "iopub.execute_input": "2021-04-14T03:07:41.320921Z",
     "iopub.status.busy": "2021-04-14T03:07:41.320252Z",
     "iopub.status.idle": "2021-04-14T03:07:41.324044Z",
     "shell.execute_reply": "2021-04-14T03:07:41.324514Z"
    },
    "papermill": {
     "duration": 0.06248,
     "end_time": "2021-04-14T03:07:41.324723",
     "exception": false,
     "start_time": "2021-04-14T03:07:41.262243",
     "status": "completed"
    },
    "tags": []
   },
   "outputs": [
    {
     "data": {
      "text/plain": [
       "PassengerId    0.002971\n",
       "Pclass         0.129755\n",
       "Age            0.038706\n",
       "SibSp          0.077914\n",
       "Parch          0.170176\n",
       "Fare           0.372661\n",
       "dtype: float64"
      ]
     },
     "execution_count": 20,
     "metadata": {},
     "output_type": "execute_result"
    }
   ],
   "source": [
    "tm = train_df.groupby(\"Survived\").mean()\n",
    "tm\n",
    "v1 = tm.iloc[0,:]\n",
    "v2 = tm.iloc[1,:]\n",
    "abs((v2-v1)/(v1+v2))"
   ]
  },
  {
   "cell_type": "code",
   "execution_count": 21,
   "id": "meaningful-klein",
   "metadata": {
    "execution": {
     "iopub.execute_input": "2021-04-14T03:07:41.432899Z",
     "iopub.status.busy": "2021-04-14T03:07:41.431462Z",
     "iopub.status.idle": "2021-04-14T03:07:41.434216Z",
     "shell.execute_reply": "2021-04-14T03:07:41.434875Z"
    },
    "papermill": {
     "duration": 0.064478,
     "end_time": "2021-04-14T03:07:41.435277",
     "exception": false,
     "start_time": "2021-04-14T03:07:41.370799",
     "status": "completed"
    },
    "tags": []
   },
   "outputs": [],
   "source": [
    "train_df = train_df.drop([\"PassengerId\",\"Name\",\"Ticket\"], axis=1)"
   ]
  },
  {
   "cell_type": "code",
   "execution_count": 22,
   "id": "mysterious-detail",
   "metadata": {
    "execution": {
     "iopub.execute_input": "2021-04-14T03:07:41.553550Z",
     "iopub.status.busy": "2021-04-14T03:07:41.552345Z",
     "iopub.status.idle": "2021-04-14T03:07:41.565481Z",
     "shell.execute_reply": "2021-04-14T03:07:41.564865Z"
    },
    "papermill": {
     "duration": 0.069563,
     "end_time": "2021-04-14T03:07:41.565655",
     "exception": false,
     "start_time": "2021-04-14T03:07:41.496092",
     "status": "completed"
    },
    "tags": []
   },
   "outputs": [
    {
     "data": {
      "text/plain": [
       "Pclass    0.129755\n",
       "Age       0.038706\n",
       "SibSp     0.077914\n",
       "Parch     0.170176\n",
       "Fare      0.372661\n",
       "dtype: float64"
      ]
     },
     "execution_count": 22,
     "metadata": {},
     "output_type": "execute_result"
    }
   ],
   "source": [
    "tm = train_df.groupby(\"Survived\").mean()\n",
    "tm\n",
    "v1 = tm.iloc[0,:]\n",
    "v2 = tm.iloc[1,:]\n",
    "abs((v2-v1)/(v1+v2))"
   ]
  },
  {
   "cell_type": "code",
   "execution_count": 23,
   "id": "contained-likelihood",
   "metadata": {
    "execution": {
     "iopub.execute_input": "2021-04-14T03:07:41.684466Z",
     "iopub.status.busy": "2021-04-14T03:07:41.683449Z",
     "iopub.status.idle": "2021-04-14T03:07:41.687959Z",
     "shell.execute_reply": "2021-04-14T03:07:41.687306Z"
    },
    "papermill": {
     "duration": 0.063661,
     "end_time": "2021-04-14T03:07:41.688219",
     "exception": false,
     "start_time": "2021-04-14T03:07:41.624558",
     "status": "completed"
    },
    "tags": []
   },
   "outputs": [],
   "source": [
    "def missingtraindata(data):\n",
    "    total = data.isnull().sum().sort_values(ascending = False)\n",
    "    percent = (data.isnull().sum()/data.isnull().count()*100).sort_values(ascending = False)\n",
    "    ms=pd.concat([total, percent], axis=1, keys=['Total', 'Percent'])\n",
    "    ms= ms[ms[\"Percent\"] > 0]\n",
    "    f,ax =plt.subplots(figsize=(6,4))\n",
    "    plt.xticks(rotation='90')\n",
    "    fig=sns.barplot(ms.index, ms[\"Percent\"],color=\"blue\",alpha=0.8)\n",
    "    plt.xlabel('Features', fontsize=15)\n",
    "    plt.ylabel('Percent of missing values', fontsize=15)\n",
    "    plt.title('Percent missing data by feature', fontsize=15)\n",
    "    return ms"
   ]
  },
  {
   "cell_type": "code",
   "execution_count": 24,
   "id": "lightweight-glossary",
   "metadata": {
    "execution": {
     "iopub.execute_input": "2021-04-14T03:07:41.854115Z",
     "iopub.status.busy": "2021-04-14T03:07:41.844956Z",
     "iopub.status.idle": "2021-04-14T03:07:42.012822Z",
     "shell.execute_reply": "2021-04-14T03:07:42.011969Z"
    },
    "papermill": {
     "duration": 0.259619,
     "end_time": "2021-04-14T03:07:42.013026",
     "exception": false,
     "start_time": "2021-04-14T03:07:41.753407",
     "status": "completed"
    },
    "tags": []
   },
   "outputs": [
    {
     "name": "stderr",
     "output_type": "stream",
     "text": [
      "/opt/conda/lib/python3.7/site-packages/seaborn/_decorators.py:43: FutureWarning: Pass the following variables as keyword args: x, y. From version 0.12, the only valid positional argument will be `data`, and passing other arguments without an explicit keyword will result in an error or misinterpretation.\n",
      "  FutureWarning\n"
     ]
    },
    {
     "data": {
      "text/html": [
       "<div>\n",
       "<style scoped>\n",
       "    .dataframe tbody tr th:only-of-type {\n",
       "        vertical-align: middle;\n",
       "    }\n",
       "\n",
       "    .dataframe tbody tr th {\n",
       "        vertical-align: top;\n",
       "    }\n",
       "\n",
       "    .dataframe thead th {\n",
       "        text-align: right;\n",
       "    }\n",
       "</style>\n",
       "<table border=\"1\" class=\"dataframe\">\n",
       "  <thead>\n",
       "    <tr style=\"text-align: right;\">\n",
       "      <th></th>\n",
       "      <th>Total</th>\n",
       "      <th>Percent</th>\n",
       "    </tr>\n",
       "  </thead>\n",
       "  <tbody>\n",
       "    <tr>\n",
       "      <th>Cabin</th>\n",
       "      <td>687</td>\n",
       "      <td>77.104377</td>\n",
       "    </tr>\n",
       "    <tr>\n",
       "      <th>Age</th>\n",
       "      <td>177</td>\n",
       "      <td>19.865320</td>\n",
       "    </tr>\n",
       "    <tr>\n",
       "      <th>Embarked</th>\n",
       "      <td>2</td>\n",
       "      <td>0.224467</td>\n",
       "    </tr>\n",
       "  </tbody>\n",
       "</table>\n",
       "</div>"
      ],
      "text/plain": [
       "          Total    Percent\n",
       "Cabin       687  77.104377\n",
       "Age         177  19.865320\n",
       "Embarked      2   0.224467"
      ]
     },
     "execution_count": 24,
     "metadata": {},
     "output_type": "execute_result"
    },
    {
     "data": {
      "image/png": "[encoded data removed]",
      "text/plain": [
       "<Figure size 432x288 with 1 Axes>"
      ]
     },
     "metadata": {},
     "output_type": "display_data"
    }
   ],
   "source": [
    "missingtraindata(train_df)"
   ]
  },
  {
   "cell_type": "code",
   "execution_count": 25,
   "id": "mexican-cambodia",
   "metadata": {
    "execution": {
     "iopub.execute_input": "2021-04-14T03:07:42.121843Z",
     "iopub.status.busy": "2021-04-14T03:07:42.120837Z",
     "iopub.status.idle": "2021-04-14T03:07:42.124716Z",
     "shell.execute_reply": "2021-04-14T03:07:42.125262Z"
    },
    "papermill": {
     "duration": 0.061228,
     "end_time": "2021-04-14T03:07:42.125438",
     "exception": false,
     "start_time": "2021-04-14T03:07:42.064210",
     "status": "completed"
    },
    "tags": []
   },
   "outputs": [
    {
     "data": {
      "text/plain": [
       "Survived      0\n",
       "Pclass        0\n",
       "Sex           0\n",
       "Age         177\n",
       "SibSp         0\n",
       "Parch         0\n",
       "Fare          0\n",
       "Cabin       687\n",
       "Embarked      2\n",
       "dtype: int64"
      ]
     },
     "execution_count": 25,
     "metadata": {},
     "output_type": "execute_result"
    }
   ],
   "source": [
    "train_df.isnull().sum()"
   ]
  },
  {
   "cell_type": "code",
   "execution_count": 26,
   "id": "jewish-visiting",
   "metadata": {
    "execution": {
     "iopub.execute_input": "2021-04-14T03:07:42.228639Z",
     "iopub.status.busy": "2021-04-14T03:07:42.227693Z",
     "iopub.status.idle": "2021-04-14T03:07:42.235809Z",
     "shell.execute_reply": "2021-04-14T03:07:42.236365Z"
    },
    "papermill": {
     "duration": 0.061581,
     "end_time": "2021-04-14T03:07:42.236539",
     "exception": false,
     "start_time": "2021-04-14T03:07:42.174958",
     "status": "completed"
    },
    "tags": []
   },
   "outputs": [],
   "source": [
    "def missingtestdata(data):\n",
    "    total = data.isnull().sum().sort_values(ascending = False)\n",
    "    percent = (data.isnull().sum()/data.isnull().count()*100).sort_values(ascending = False)\n",
    "    ms=pd.concat([total, percent], axis=1, keys=['Total', 'Percent'])\n",
    "    ms= ms[ms[\"Percent\"] > 0]\n",
    "    f,ax =plt.subplots(figsize=(6,4))\n",
    "    plt.xticks(rotation='90')\n",
    "    fig=sns.barplot(ms.index, ms[\"Percent\"],color=\"red\",alpha=0.8)\n",
    "    plt.xlabel('Features', fontsize=15)\n",
    "    plt.ylabel('Percent of missing values', fontsize=15)\n",
    "    plt.title('Percent missing data by feature', fontsize=15)\n",
    "    return ms"
   ]
  },
  {
   "cell_type": "code",
   "execution_count": 27,
   "id": "exact-cream",
   "metadata": {
    "execution": {
     "iopub.execute_input": "2021-04-14T03:07:42.337527Z",
     "iopub.status.busy": "2021-04-14T03:07:42.336560Z",
     "iopub.status.idle": "2021-04-14T03:07:42.521497Z",
     "shell.execute_reply": "2021-04-14T03:07:42.521947Z"
    },
    "papermill": {
     "duration": 0.237229,
     "end_time": "2021-04-14T03:07:42.522140",
     "exception": false,
     "start_time": "2021-04-14T03:07:42.284911",
     "status": "completed"
    },
    "tags": []
   },
   "outputs": [
    {
     "name": "stderr",
     "output_type": "stream",
     "text": [
      "/opt/conda/lib/python3.7/site-packages/seaborn/_decorators.py:43: FutureWarning: Pass the following variables as keyword args: x, y. From version 0.12, the only valid positional argument will be `data`, and passing other arguments without an explicit keyword will result in an error or misinterpretation.\n",
      "  FutureWarning\n"
     ]
    },
    {
     "data": {
      "text/html": [
       "<div>\n",
       "<style scoped>\n",
       "    .dataframe tbody tr th:only-of-type {\n",
       "        vertical-align: middle;\n",
       "    }\n",
       "\n",
       "    .dataframe tbody tr th {\n",
       "        vertical-align: top;\n",
       "    }\n",
       "\n",
       "    .dataframe thead th {\n",
       "        text-align: right;\n",
       "    }\n",
       "</style>\n",
       "<table border=\"1\" class=\"dataframe\">\n",
       "  <thead>\n",
       "    <tr style=\"text-align: right;\">\n",
       "      <th></th>\n",
       "      <th>Total</th>\n",
       "      <th>Percent</th>\n",
       "    </tr>\n",
       "  </thead>\n",
       "  <tbody>\n",
       "    <tr>\n",
       "      <th>Cabin</th>\n",
       "      <td>327</td>\n",
       "      <td>78.229665</td>\n",
       "    </tr>\n",
       "    <tr>\n",
       "      <th>Age</th>\n",
       "      <td>86</td>\n",
       "      <td>20.574163</td>\n",
       "    </tr>\n",
       "    <tr>\n",
       "      <th>Fare</th>\n",
       "      <td>1</td>\n",
       "      <td>0.239234</td>\n",
       "    </tr>\n",
       "  </tbody>\n",
       "</table>\n",
       "</div>"
      ],
      "text/plain": [
       "       Total    Percent\n",
       "Cabin    327  78.229665\n",
       "Age       86  20.574163\n",
       "Fare       1   0.239234"
      ]
     },
     "execution_count": 27,
     "metadata": {},
     "output_type": "execute_result"
    },
    {
     "data": {
      "image/png": "[encoded data removed]",
      "text/plain": [
       "<Figure size 432x288 with 1 Axes>"
      ]
     },
     "metadata": {},
     "output_type": "display_data"
    }
   ],
   "source": [
    "missingtestdata(test_df)"
   ]
  },
  {
   "cell_type": "code",
   "execution_count": 28,
   "id": "pregnant-boating",
   "metadata": {
    "execution": {
     "iopub.execute_input": "2021-04-14T03:07:42.626856Z",
     "iopub.status.busy": "2021-04-14T03:07:42.626096Z",
     "iopub.status.idle": "2021-04-14T03:07:42.648654Z",
     "shell.execute_reply": "2021-04-14T03:07:42.649263Z"
    },
    "papermill": {
     "duration": 0.077049,
     "end_time": "2021-04-14T03:07:42.649521",
     "exception": false,
     "start_time": "2021-04-14T03:07:42.572472",
     "status": "completed"
    },
    "tags": []
   },
   "outputs": [
    {
     "name": "stdout",
     "output_type": "stream",
     "text": [
      "<class 'pandas.core.frame.DataFrame'>\n",
      "RangeIndex: 891 entries, 0 to 890\n",
      "Data columns (total 12 columns):\n",
      " #   Column      Non-Null Count  Dtype  \n",
      "---  ------      --------------  -----  \n",
      " 0   Survived    891 non-null    int64  \n",
      " 1   Pclass      891 non-null    int64  \n",
      " 2   Age         714 non-null    float64\n",
      " 3   SibSp       891 non-null    int64  \n",
      " 4   Parch       891 non-null    int64  \n",
      " 5   Fare        891 non-null    float64\n",
      " 6   Cabin       891 non-null    bool   \n",
      " 7   Sex_female  891 non-null    uint8  \n",
      " 8   Sex_male    891 non-null    uint8  \n",
      " 9   Embarked_C  891 non-null    uint8  \n",
      " 10  Embarked_Q  891 non-null    uint8  \n",
      " 11  Embarked_S  891 non-null    uint8  \n",
      "dtypes: bool(1), float64(2), int64(4), uint8(5)\n",
      "memory usage: 47.1 KB\n"
     ]
    }
   ],
   "source": [
    "train_df[\"Cabin\"] = train_df[\"Cabin\"].isna()\n",
    "train_df = pd.get_dummies(train_df)\n",
    "train_df.info()"
   ]
  },
  {
   "cell_type": "code",
   "execution_count": 29,
   "id": "pleased-captain",
   "metadata": {
    "execution": {
     "iopub.execute_input": "2021-04-14T03:07:42.770806Z",
     "iopub.status.busy": "2021-04-14T03:07:42.769757Z",
     "iopub.status.idle": "2021-04-14T03:07:42.774349Z",
     "shell.execute_reply": "2021-04-14T03:07:42.774845Z"
    },
    "papermill": {
     "duration": 0.073155,
     "end_time": "2021-04-14T03:07:42.775069",
     "exception": false,
     "start_time": "2021-04-14T03:07:42.701914",
     "status": "completed"
    },
    "tags": []
   },
   "outputs": [
    {
     "name": "stderr",
     "output_type": "stream",
     "text": [
      "/opt/conda/lib/python3.7/site-packages/ipykernel_launcher.py:1: SettingWithCopyWarning: \n",
      "A value is trying to be set on a copy of a slice from a DataFrame\n",
      "\n",
      "See the caveats in the documentation: https://pandas.pydata.org/pandas-docs/stable/user_guide/indexing.html#returning-a-view-versus-a-copy\n",
      "  \"\"\"Entry point for launching an IPython kernel.\n"
     ]
    },
    {
     "data": {
      "text/plain": [
       "Survived      891\n",
       "Pclass        891\n",
       "Age           891\n",
       "SibSp         891\n",
       "Parch         891\n",
       "Fare          891\n",
       "Cabin         891\n",
       "Sex_female    891\n",
       "Sex_male      891\n",
       "Embarked_C    891\n",
       "Embarked_Q    891\n",
       "Embarked_S    891\n",
       "dtype: int64"
      ]
     },
     "execution_count": 29,
     "metadata": {},
     "output_type": "execute_result"
    }
   ],
   "source": [
    "train_df[\"Age\"][train_df[\"Age\"].isna()] = train_df[\"Age\"].mean()\n",
    "train_df.count()"
   ]
  },
  {
   "cell_type": "code",
   "execution_count": 30,
   "id": "organizational-filling",
   "metadata": {
    "execution": {
     "iopub.execute_input": "2021-04-14T03:07:42.884957Z",
     "iopub.status.busy": "2021-04-14T03:07:42.884326Z",
     "iopub.status.idle": "2021-04-14T03:07:42.891053Z",
     "shell.execute_reply": "2021-04-14T03:07:42.891578Z"
    },
    "papermill": {
     "duration": 0.062742,
     "end_time": "2021-04-14T03:07:42.891749",
     "exception": false,
     "start_time": "2021-04-14T03:07:42.829007",
     "status": "completed"
    },
    "tags": []
   },
   "outputs": [
    {
     "data": {
      "text/plain": [
       "30.272590361445783"
      ]
     },
     "execution_count": 30,
     "metadata": {},
     "output_type": "execute_result"
    }
   ],
   "source": [
    "test_df['Age'].mean()"
   ]
  },
  {
   "cell_type": "code",
   "execution_count": 31,
   "id": "adolescent-kelly",
   "metadata": {
    "execution": {
     "iopub.execute_input": "2021-04-14T03:07:43.001350Z",
     "iopub.status.busy": "2021-04-14T03:07:43.000715Z",
     "iopub.status.idle": "2021-04-14T03:07:43.006460Z",
     "shell.execute_reply": "2021-04-14T03:07:43.006997Z"
    },
    "papermill": {
     "duration": 0.062699,
     "end_time": "2021-04-14T03:07:43.007183",
     "exception": false,
     "start_time": "2021-04-14T03:07:42.944484",
     "status": "completed"
    },
    "tags": []
   },
   "outputs": [],
   "source": [
    "test_df['Age'].fillna(test_df['Age'].median(), inplace = True)"
   ]
  },
  {
   "cell_type": "code",
   "execution_count": 32,
   "id": "superior-participation",
   "metadata": {
    "execution": {
     "iopub.execute_input": "2021-04-14T03:07:43.125412Z",
     "iopub.status.busy": "2021-04-14T03:07:43.124707Z",
     "iopub.status.idle": "2021-04-14T03:07:43.189532Z",
     "shell.execute_reply": "2021-04-14T03:07:43.188913Z"
    },
    "papermill": {
     "duration": 0.128141,
     "end_time": "2021-04-14T03:07:43.189705",
     "exception": false,
     "start_time": "2021-04-14T03:07:43.061564",
     "status": "completed"
    },
    "tags": []
   },
   "outputs": [
    {
     "name": "stdout",
     "output_type": "stream",
     "text": [
      "<class 'pandas.core.frame.DataFrame'>\n",
      "RangeIndex: 418 entries, 0 to 417\n",
      "Columns: 793 entries, PassengerId to Embarked_S\n",
      "dtypes: bool(1), float64(2), int64(4), uint8(786)\n",
      "memory usage: 341.0 KB\n"
     ]
    }
   ],
   "source": [
    "test_df[\"Cabin\"] = test_df[\"Cabin\"].isna()\n",
    "test_df = pd.get_dummies(test_df)\n",
    "test_df.info()"
   ]
  },
  {
   "cell_type": "code",
   "execution_count": 33,
   "id": "destroyed-effectiveness",
   "metadata": {
    "execution": {
     "iopub.execute_input": "2021-04-14T03:07:43.304548Z",
     "iopub.status.busy": "2021-04-14T03:07:43.303577Z",
     "iopub.status.idle": "2021-04-14T03:07:43.316109Z",
     "shell.execute_reply": "2021-04-14T03:07:43.316705Z"
    },
    "papermill": {
     "duration": 0.073287,
     "end_time": "2021-04-14T03:07:43.316899",
     "exception": false,
     "start_time": "2021-04-14T03:07:43.243612",
     "status": "completed"
    },
    "tags": []
   },
   "outputs": [
    {
     "data": {
      "text/plain": [
       "PassengerId           0\n",
       "Pclass                0\n",
       "Age                   0\n",
       "SibSp                 0\n",
       "Parch                 0\n",
       "                     ..\n",
       "Ticket_W./C. 6608     0\n",
       "Ticket_W.E.P. 5734    0\n",
       "Embarked_C            0\n",
       "Embarked_Q            0\n",
       "Embarked_S            0\n",
       "Length: 793, dtype: int64"
      ]
     },
     "execution_count": 33,
     "metadata": {},
     "output_type": "execute_result"
    }
   ],
   "source": [
    "test_df.isnull().sum()"
   ]
  },
  {
   "cell_type": "code",
   "execution_count": 34,
   "id": "planned-mailman",
   "metadata": {
    "execution": {
     "iopub.execute_input": "2021-04-14T03:07:43.428694Z",
     "iopub.status.busy": "2021-04-14T03:07:43.427743Z",
     "iopub.status.idle": "2021-04-14T03:07:44.692613Z",
     "shell.execute_reply": "2021-04-14T03:07:44.693063Z"
    },
    "papermill": {
     "duration": 1.322755,
     "end_time": "2021-04-14T03:07:44.693262",
     "exception": false,
     "start_time": "2021-04-14T03:07:43.370507",
     "status": "completed"
    },
    "tags": []
   },
   "outputs": [
    {
     "data": {
      "image/png": "[encoded data removed]",
      "text/plain": [
       "<Figure size 1800x1080 with 2 Axes>"
      ]
     },
     "metadata": {},
     "output_type": "display_data"
    }
   ],
   "source": [
    "sns.heatmap(train_df.corr(),annot=True,cmap='RdYlGn',linewidths=0.2) #data.corr()-->correlation matrix\n",
    "fig=plt.gcf()\n",
    "fig.set_size_inches(25,15)\n",
    "plt.show()"
   ]
  },
  {
   "cell_type": "code",
   "execution_count": 35,
   "id": "expired-muslim",
   "metadata": {
    "execution": {
     "iopub.execute_input": "2021-04-14T03:07:44.811661Z",
     "iopub.status.busy": "2021-04-14T03:07:44.810683Z",
     "iopub.status.idle": "2021-04-14T03:07:45.405544Z",
     "shell.execute_reply": "2021-04-14T03:07:45.406020Z"
    },
    "papermill": {
     "duration": 0.655812,
     "end_time": "2021-04-14T03:07:45.406249",
     "exception": false,
     "start_time": "2021-04-14T03:07:44.750437",
     "status": "completed"
    },
    "tags": []
   },
   "outputs": [],
   "source": [
    "#import logistic regression\n",
    "from sklearn.linear_model import LogisticRegression # Logistic Regression\n",
    "from sklearn.model_selection import train_test_split #for split the data\n",
    "from sklearn.metrics import accuracy_score #for accuracy_score\n",
    "from sklearn.metrics import confusion_matrix #for confusion matrix\n",
    "from sklearn.model_selection import KFold #for K-fold cross validation\n",
    "from sklearn.model_selection import cross_val_score #score evaluation\n",
    "from sklearn.model_selection import cross_val_predict #prediction\n",
    "#import xgboost for test purpose (Not Required)\n",
    "from xgboost import XGBClassifier\n",
    "import numpy as np"
   ]
  },
  {
   "cell_type": "code",
   "execution_count": 36,
   "id": "interracial-glass",
   "metadata": {
    "execution": {
     "iopub.execute_input": "2021-04-14T03:07:45.529101Z",
     "iopub.status.busy": "2021-04-14T03:07:45.528094Z",
     "iopub.status.idle": "2021-04-14T03:07:45.536359Z",
     "shell.execute_reply": "2021-04-14T03:07:45.535715Z"
    },
    "papermill": {
     "duration": 0.071035,
     "end_time": "2021-04-14T03:07:45.536496",
     "exception": false,
     "start_time": "2021-04-14T03:07:45.465461",
     "status": "completed"
    },
    "tags": []
   },
   "outputs": [],
   "source": [
    "all_features = train_df.drop(\"Survived\",axis=1)\n",
    "Targeted_feature = train_df[\"Survived\"]"
   ]
  },
  {
   "cell_type": "code",
   "execution_count": 37,
   "id": "timely-privacy",
   "metadata": {
    "execution": {
     "iopub.execute_input": "2021-04-14T03:07:45.657801Z",
     "iopub.status.busy": "2021-04-14T03:07:45.657105Z",
     "iopub.status.idle": "2021-04-14T03:07:45.668602Z",
     "shell.execute_reply": "2021-04-14T03:07:45.669365Z"
    },
    "papermill": {
     "duration": 0.075385,
     "end_time": "2021-04-14T03:07:45.669572",
     "exception": false,
     "start_time": "2021-04-14T03:07:45.594187",
     "status": "completed"
    },
    "tags": []
   },
   "outputs": [],
   "source": [
    "#Spliting the data\n",
    "X_train, X_test, y_train, y_test = train_test_split(all_features,Targeted_feature, test_size = 0.2,random_state = 10)"
   ]
  },
  {
   "cell_type": "code",
   "execution_count": 38,
   "id": "composed-toronto",
   "metadata": {
    "execution": {
     "iopub.execute_input": "2021-04-14T03:07:45.790513Z",
     "iopub.status.busy": "2021-04-14T03:07:45.789560Z",
     "iopub.status.idle": "2021-04-14T03:07:45.798498Z",
     "shell.execute_reply": "2021-04-14T03:07:45.797874Z"
    },
    "papermill": {
     "duration": 0.069889,
     "end_time": "2021-04-14T03:07:45.798634",
     "exception": false,
     "start_time": "2021-04-14T03:07:45.728745",
     "status": "completed"
    },
    "tags": []
   },
   "outputs": [
    {
     "data": {
      "text/plain": [
       "((891, 11), (891,), (179, 11))"
      ]
     },
     "execution_count": 38,
     "metadata": {},
     "output_type": "execute_result"
    }
   ],
   "source": [
    "# Model Preprocessing.\n",
    "X_train = train_df.drop(['Survived'], axis=1)\n",
    "y_train = train_df['Survived']\n",
    "X_train.shape, y_train.shape, X_test.shape\n"
   ]
  },
  {
   "cell_type": "code",
   "execution_count": 39,
   "id": "everyday-trinidad",
   "metadata": {
    "execution": {
     "iopub.execute_input": "2021-04-14T03:07:45.920384Z",
     "iopub.status.busy": "2021-04-14T03:07:45.919662Z",
     "iopub.status.idle": "2021-04-14T03:07:45.923594Z",
     "shell.execute_reply": "2021-04-14T03:07:45.923012Z"
    },
    "papermill": {
     "duration": 0.06672,
     "end_time": "2021-04-14T03:07:45.923732",
     "exception": false,
     "start_time": "2021-04-14T03:07:45.857012",
     "status": "completed"
    },
    "tags": []
   },
   "outputs": [],
   "source": [
    "# Initialize our algorithm\n",
    "# logmodel = XGBClassifier()\n",
    "logmodel = LogisticRegression()"
   ]
  },
  {
   "cell_type": "code",
   "execution_count": 40,
   "id": "blessed-demonstration",
   "metadata": {
    "execution": {
     "iopub.execute_input": "2021-04-14T03:07:46.052578Z",
     "iopub.status.busy": "2021-04-14T03:07:46.049806Z",
     "iopub.status.idle": "2021-04-14T03:07:46.164014Z",
     "shell.execute_reply": "2021-04-14T03:07:46.164939Z"
    },
    "papermill": {
     "duration": 0.181739,
     "end_time": "2021-04-14T03:07:46.165227",
     "exception": false,
     "start_time": "2021-04-14T03:07:45.983488",
     "status": "completed"
    },
    "tags": []
   },
   "outputs": [
    {
     "name": "stderr",
     "output_type": "stream",
     "text": [
      "/opt/conda/lib/python3.7/site-packages/sklearn/linear_model/_logistic.py:765: ConvergenceWarning: lbfgs failed to converge (status=1):\n",
      "STOP: TOTAL NO. of ITERATIONS REACHED LIMIT.\n",
      "\n",
      "Increase the number of iterations (max_iter) or scale the data as shown in:\n",
      "    https://scikit-learn.org/stable/modules/preprocessing.html\n",
      "Please also refer to the documentation for alternative solver options:\n",
      "    https://scikit-learn.org/stable/modules/linear_model.html#logistic-regression\n",
      "  extra_warning_msg=_LOGISTIC_SOLVER_CONVERGENCE_MSG)\n"
     ]
    },
    {
     "data": {
      "text/plain": [
       "LogisticRegression()"
      ]
     },
     "execution_count": 40,
     "metadata": {},
     "output_type": "execute_result"
    }
   ],
   "source": [
    "logmodel.fit(X_train,y_train)"
   ]
  },
  {
   "cell_type": "code",
   "execution_count": 41,
   "id": "partial-radio",
   "metadata": {
    "execution": {
     "iopub.execute_input": "2021-04-14T03:07:46.344219Z",
     "iopub.status.busy": "2021-04-14T03:07:46.342764Z",
     "iopub.status.idle": "2021-04-14T03:07:46.348087Z",
     "shell.execute_reply": "2021-04-14T03:07:46.347471Z"
    },
    "papermill": {
     "duration": 0.077727,
     "end_time": "2021-04-14T03:07:46.348243",
     "exception": false,
     "start_time": "2021-04-14T03:07:46.270516",
     "status": "completed"
    },
    "tags": []
   },
   "outputs": [
    {
     "name": "stdout",
     "output_type": "stream",
     "text": [
      "0.8435754189944135\n",
      "Survived 58\n",
      "NOT Survived 121\n"
     ]
    }
   ],
   "source": [
    "print(logmodel.score(X_test,y_test))\n",
    "pp = logmodel.predict(X_test)\n",
    "print(\"Survived\", sum(pp!=0))\n",
    "print(\"NOT Survived\", sum(pp==0))"
   ]
  },
  {
   "cell_type": "code",
   "execution_count": 42,
   "id": "unknown-diploma",
   "metadata": {
    "execution": {
     "iopub.execute_input": "2021-04-14T03:07:46.472066Z",
     "iopub.status.busy": "2021-04-14T03:07:46.471443Z",
     "iopub.status.idle": "2021-04-14T03:07:46.671758Z",
     "shell.execute_reply": "2021-04-14T03:07:46.671152Z"
    },
    "papermill": {
     "duration": 0.263952,
     "end_time": "2021-04-14T03:07:46.671912",
     "exception": false,
     "start_time": "2021-04-14T03:07:46.407960",
     "status": "completed"
    },
    "tags": []
   },
   "outputs": [
    {
     "data": {
      "text/plain": [
       "array([[105,  12],\n",
       "       [ 16,  46]])"
      ]
     },
     "execution_count": 42,
     "metadata": {},
     "output_type": "execute_result"
    },
    {
     "data": {
      "image/png": "[encoded data removed]",
      "text/plain": [
       "<Figure size 432x288 with 2 Axes>"
      ]
     },
     "metadata": {},
     "output_type": "display_data"
    }
   ],
   "source": [
    "cm = confusion_matrix(y_test,pp)\n",
    "#visualize confusion matrix \n",
    "sns.heatmap(confusion_matrix(y_test,pp),annot=True,fmt='3.0f',cmap=\"summer\")\n",
    "plt.title('cm', y=1.05, size=15)\n",
    "cm\n"
   ]
  },
  {
   "cell_type": "code",
   "execution_count": 43,
   "id": "cheap-coupon",
   "metadata": {
    "execution": {
     "iopub.execute_input": "2021-04-14T03:07:46.802720Z",
     "iopub.status.busy": "2021-04-14T03:07:46.801971Z",
     "iopub.status.idle": "2021-04-14T03:07:46.808041Z",
     "shell.execute_reply": "2021-04-14T03:07:46.807453Z"
    },
    "papermill": {
     "duration": 0.075279,
     "end_time": "2021-04-14T03:07:46.808206",
     "exception": false,
     "start_time": "2021-04-14T03:07:46.732927",
     "status": "completed"
    },
    "tags": []
   },
   "outputs": [
    {
     "name": "stdout",
     "output_type": "stream",
     "text": [
      "--------------The Accuracy of the model----------------------------\n",
      "The accuracy of the Logistic Regression is 84.36\n"
     ]
    }
   ],
   "source": [
    "prediction_lr=logmodel.predict(X_test)\n",
    "print('--------------The Accuracy of the model----------------------------')\n",
    "print('The accuracy of the Logistic Regression is',round(accuracy_score(prediction_lr,y_test)*100,2))"
   ]
  },
  {
   "cell_type": "code",
   "execution_count": 44,
   "id": "fancy-shock",
   "metadata": {
    "execution": {
     "iopub.execute_input": "2021-04-14T03:07:46.939554Z",
     "iopub.status.busy": "2021-04-14T03:07:46.938912Z",
     "iopub.status.idle": "2021-04-14T03:07:46.956724Z",
     "shell.execute_reply": "2021-04-14T03:07:46.956068Z"
    },
    "papermill": {
     "duration": 0.086782,
     "end_time": "2021-04-14T03:07:46.956868",
     "exception": false,
     "start_time": "2021-04-14T03:07:46.870086",
     "status": "completed"
    },
    "tags": []
   },
   "outputs": [
    {
     "data": {
      "text/html": [
       "<div>\n",
       "<style scoped>\n",
       "    .dataframe tbody tr th:only-of-type {\n",
       "        vertical-align: middle;\n",
       "    }\n",
       "\n",
       "    .dataframe tbody tr th {\n",
       "        vertical-align: top;\n",
       "    }\n",
       "\n",
       "    .dataframe thead th {\n",
       "        text-align: right;\n",
       "    }\n",
       "</style>\n",
       "<table border=\"1\" class=\"dataframe\">\n",
       "  <thead>\n",
       "    <tr style=\"text-align: right;\">\n",
       "      <th></th>\n",
       "      <th>PassengerId</th>\n",
       "      <th>Survived</th>\n",
       "    </tr>\n",
       "  </thead>\n",
       "  <tbody>\n",
       "    <tr>\n",
       "      <th>0</th>\n",
       "      <td>892.0</td>\n",
       "      <td>0.0</td>\n",
       "    </tr>\n",
       "    <tr>\n",
       "      <th>1</th>\n",
       "      <td>893.0</td>\n",
       "      <td>1.0</td>\n",
       "    </tr>\n",
       "    <tr>\n",
       "      <th>2</th>\n",
       "      <td>894.0</td>\n",
       "      <td>0.0</td>\n",
       "    </tr>\n",
       "    <tr>\n",
       "      <th>3</th>\n",
       "      <td>895.0</td>\n",
       "      <td>0.0</td>\n",
       "    </tr>\n",
       "    <tr>\n",
       "      <th>4</th>\n",
       "      <td>896.0</td>\n",
       "      <td>0.0</td>\n",
       "    </tr>\n",
       "    <tr>\n",
       "      <th>...</th>\n",
       "      <td>...</td>\n",
       "      <td>...</td>\n",
       "    </tr>\n",
       "    <tr>\n",
       "      <th>851</th>\n",
       "      <td>0.0</td>\n",
       "      <td>0.0</td>\n",
       "    </tr>\n",
       "    <tr>\n",
       "      <th>861</th>\n",
       "      <td>0.0</td>\n",
       "      <td>0.0</td>\n",
       "    </tr>\n",
       "    <tr>\n",
       "      <th>870</th>\n",
       "      <td>0.0</td>\n",
       "      <td>0.0</td>\n",
       "    </tr>\n",
       "    <tr>\n",
       "      <th>876</th>\n",
       "      <td>0.0</td>\n",
       "      <td>0.0</td>\n",
       "    </tr>\n",
       "    <tr>\n",
       "      <th>888</th>\n",
       "      <td>0.0</td>\n",
       "      <td>0.0</td>\n",
       "    </tr>\n",
       "  </tbody>\n",
       "</table>\n",
       "<p>508 rows × 2 columns</p>\n",
       "</div>"
      ],
      "text/plain": [
       "     PassengerId  Survived\n",
       "0          892.0       0.0\n",
       "1          893.0       1.0\n",
       "2          894.0       0.0\n",
       "3          895.0       0.0\n",
       "4          896.0       0.0\n",
       "..           ...       ...\n",
       "851          0.0       0.0\n",
       "861          0.0       0.0\n",
       "870          0.0       0.0\n",
       "876          0.0       0.0\n",
       "888          0.0       0.0\n",
       "\n",
       "[508 rows x 2 columns]"
      ]
     },
     "execution_count": 44,
     "metadata": {},
     "output_type": "execute_result"
    }
   ],
   "source": [
    "submission = pd.DataFrame({\n",
    "        \"PassengerId\": test_df[\"PassengerId\"],\n",
    "        \"Survived\": y_test})\n",
    "submission['Survived'] = submission['Survived'].fillna(0)\n",
    "submission['PassengerId'] = submission['PassengerId'].fillna(0)\n",
    "submission"
   ]
  },
  {
   "cell_type": "code",
   "execution_count": null,
   "id": "connected-illness",
   "metadata": {
    "papermill": {
     "duration": 0.063694,
     "end_time": "2021-04-14T03:07:47.083249",
     "exception": false,
     "start_time": "2021-04-14T03:07:47.019555",
     "status": "completed"
    },
    "tags": []
   },
   "outputs": [],
   "source": []
  }
 ],
 "metadata": {
  "kernelspec": {
   "display_name": "Python 3",
   "language": "python",
   "name": "python3"
  },
  "language_info": {
   "codemirror_mode": {
    "name": "ipython",
    "version": 3
   },
   "file_extension": ".py",
   "mimetype": "text/x-python",
   "name": "python",
   "nbconvert_exporter": "python",
   "pygments_lexer": "ipython3",
   "version": "3.7.9"
  },
  "papermill": {
   "default_parameters": {},
   "duration": 19.363111,
   "end_time": "2021-04-14T03:07:47.956364",
   "environment_variables": {},
   "exception": null,
   "input_path": "__notebook__.ipynb",
   "output_path": "__notebook__.ipynb",
   "parameters": {},
   "start_time": "2021-04-14T03:07:28.593253",
   "version": "2.3.2"
  }
 },
 "nbformat": 4,
 "nbformat_minor": 5
}
